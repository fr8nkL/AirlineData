{
 "cells": [
  {
   "cell_type": "code",
   "execution_count": 1,
   "metadata": {},
   "outputs": [],
   "source": [
    "# CIS 545"
   ]
  },
  {
   "cell_type": "code",
   "execution_count": null,
   "metadata": {},
   "outputs": [],
   "source": [
    "# pd.set_option('display.max_rows', 500)"
   ]
  },
  {
   "cell_type": "code",
   "execution_count": 2,
   "metadata": {
    "deletable": false,
    "editable": false,
    "nbgrader": {
     "checksum": "b229a6dc7c38a2041fb06edd93f1609c",
     "grade": false,
     "grade_id": "setup",
     "locked": true,
     "schema_version": 1,
     "solution": false
    }
   },
   "outputs": [],
   "source": [
    "## CIS 545 Homework 1 - Spring 2019\n",
    "# Updated January 2019"
   ]
  },
  {
   "cell_type": "markdown",
   "metadata": {
    "deletable": false,
    "editable": false,
    "nbgrader": {
     "checksum": "3973a474f2d3a77aa36d4cf747b4a189",
     "grade": false,
     "grade_id": "hw1",
     "locked": true,
     "schema_version": 1,
     "solution": false
    }
   },
   "source": [
    "# CIS 545 Homework 1: Data Wrangling and Analysis\n",
    "### Due February 11, 2019 by 10pm\n",
    "\n",
    "Big data analytics often requires (1) importing data from multiple sources, possibly extracting content from text; then (2) combining data from multiple sources, possibly from multiple different organizations, in heterogeneous formats.  For this assignment, our primary goals are to get you comfortable with importing, extracting, saving, and combining data -- largely using `Pandas DataFrames` as the basic abstraction.  You’ll read data from files, address issues with missing values, save the data in a database, combine the data, and generate visualizations.\n",
    "\n",
    "*The Task*     \n",
    "Most of you likely were on a plane over the summer, and chances are that at least one of your flights got delayed.  Did you ever wonder how well different airlines do?  We’ll answer those questions in this assignment!  (Caveat: with apologies to international travelers, most of the data is only available for US cities and routes!)\n",
    "\n",
    "*Terminology*      \n",
    "We’ll generally use `field`, `column`, and `attribute` interchangeably to mean a named column in a DataFrame.  We’ll also generally assume that `table`, `DataFrame`, and `relation` mean the same thing.\n",
    "\n",
    "*Submission*      \n",
    "See the external document for submission information.  Remember to also do **Homework 1, Part 2** and optionally **Homework 1-Advanced**.\n",
    "\n",
    "*NBGrader Information*      \n",
    "We're using a package called `nbgrader` to grade your assignments using an autograding system. With that, there's a couple things to take note:\n",
    "- If we specify a format, please use it!\n",
    "- Some cells will not be able to be edited - that is totally fine, we'll mark them\n",
    "- You may add/remove cells, but if a cell is marked test cases, please don't change it...just add cells before/after it!\n",
    "\n",
    "*Score Breakdown*\n",
    "Homework 1 has two parts, Part 1 and Part 2, which are each worth 50 points. The Advanced assignment, when released, will be worth an additional portion (ex: Advanced assignments may be graded out of 120 or 125 instead of 100).\n",
    "- Step 1: 21 pts\n",
    "- Step 2: 29 pts\n",
    "- Step 3: 0 pts (However, if this is done incorrectly, tests in Step 4 will fail!)\n",
    "- Step 4: 30 pts\n",
    "- Step 5: 20 pts"
   ]
  },
  {
   "cell_type": "markdown",
   "metadata": {
    "deletable": false,
    "editable": false,
    "nbgrader": {
     "checksum": "f760732c42a051eadb3227644d849e01",
     "grade": false,
     "grade_id": "hw1-1",
     "locked": true,
     "schema_version": 1,
     "solution": false
    }
   },
   "source": [
    "## Part 1: Data Extraction and Cleaning\n",
    "We'll begin by importing the data and doing some basic information extraction and cleaning. This helps prepare our dataset for analysis later on, in Part 2: Data Wrangling and Analysis.\n",
    "\n",
    "The data files, whose contents are described in the provided notebook _Dataset Descriptions_, are:\n",
    "\n",
    "* `airports.dat.txt` - data on airports, in comma-separated values (CSVs) with no header row\n",
    "\n",
    "* `airlines.dat.txt` - data on airlines, in CSV with no header row\n",
    "\n",
    "* `routes.dat.txt` - data on flight routes, in CSV with no header row\n",
    "\n",
    "* http://docs.google.com/uc?export=download&id=1PPtjGx8lr_cDUfVa3qwlk1W8yY6hY91n - remote file with data on actual flights, with performance info, with a header row\n",
    "\n",
    "* `aircraft_incidents.htm` - webpage that lists commercial aircraft incidents by year"
   ]
  },
  {
   "cell_type": "markdown",
   "metadata": {
    "deletable": false,
    "editable": false,
    "nbgrader": {
     "checksum": "030c8040956245cd8b2009ffcf258384",
     "grade": false,
     "grade_id": "step1",
     "locked": true,
     "schema_version": 1,
     "solution": false
    }
   },
   "source": [
    "## Step 1: Importing CSV Data\n",
    "\n",
    "The first task will be to import tabular data.  Before you get started, run the following..."
   ]
  },
  {
   "cell_type": "code",
   "execution_count": 3,
   "metadata": {
    "deletable": false,
    "editable": false,
    "nbgrader": {
     "checksum": "11441b5299dface90d376491384924d4",
     "grade": false,
     "grade_id": "pandas",
     "locked": true,
     "schema_version": 1,
     "solution": false
    }
   },
   "outputs": [],
   "source": [
    "# csv is a package for file reading/IO\n",
    "import csv\n",
    "\n",
    "# pandas is the data analysis library we'll use in this course\n",
    "import pandas as pd"
   ]
  },
  {
   "cell_type": "code",
   "execution_count": 4,
   "metadata": {
    "deletable": false,
    "nbgrader": {
     "checksum": "298c269b5ddd95b7f64e289cc4b3a12e",
     "grade": false,
     "grade_id": "install_nltk",
     "locked": false,
     "schema_version": 1,
     "solution": true
    }
   },
   "outputs": [],
   "source": [
    "# YOUR CODE HERE\n",
    "\n",
    "# raise NotImplementedError()"
   ]
  },
  {
   "cell_type": "code",
   "execution_count": 5,
   "metadata": {
    "deletable": false,
    "nbgrader": {
     "checksum": "862f3db2091aec3de1dec3c5dcb95aa1",
     "grade": false,
     "grade_id": "stopwords",
     "locked": false,
     "schema_version": 1,
     "solution": true
    }
   },
   "outputs": [],
   "source": [
    "# YOUR CODE HERE\n",
    "# raise NotImplementedError()"
   ]
  },
  {
   "cell_type": "code",
   "execution_count": 6,
   "metadata": {
    "deletable": false,
    "editable": false,
    "nbgrader": {
     "checksum": "f63db9704c98da078c57b5aafa7c17c7",
     "grade": false,
     "grade_id": "base_dfs",
     "locked": true,
     "schema_version": 1,
     "solution": false
    }
   },
   "outputs": [],
   "source": [
    "# This cell can ultimately be removed - it is just to let your notebook compile\n",
    "# until you write your solution\n",
    "airports_df = pd.DataFrame({})\n",
    "airlines_df = pd.DataFrame({})\n",
    "flights_df = pd.DataFrame({})\n",
    "routes_df = pd.DataFrame({})\n"
   ]
  },
  {
   "cell_type": "markdown",
   "metadata": {
    "deletable": false,
    "editable": false,
    "nbgrader": {
     "checksum": "96ba99d3e745960a49b1484f8c6e1795",
     "grade": false,
     "grade_id": "step1-1",
     "locked": true,
     "schema_version": 1,
     "solution": false
    }
   },
   "source": [
    "## 1.1 Importing Tabular Data\n",
    "\n",
    "Fill in the Cells below to read the specified input files using Pandas’ `read_csv` function.  For the first 3 sources you’ll need to assign column names to the data, based on the **Dataset Descriptions** and some hints below.  \n",
    "\n",
    "We use the variable names `airports_df`, `airlines_df`, `routes_df`, and `flights_df` to refer to the DataFrames below. The `_df` is because Python is dynamically typed, so it helps make code more clear when the type is apparent from the variable name.\n",
    "\n",
    "For your variables and your column names, follow the Python convention that names are in lowercase and underscores are used as spaces. Specifically, when naming columns that are ***shared*** between datasets, use the format datasource_property (i.e. `airport_id`, `airport_name`, `airline_id`, etc.). Distinct columns do not need to be treated this way, similarly with columns that are okay to share with same name (use your data scientist thinking to figure out which these might be!)\n",
    "\n",
    "Please keep `lat`, `lon` and `alt` as abbreviations, but note that under the Python naming conventions these are lowercase in our dataframe columns!"
   ]
  },
  {
   "cell_type": "code",
   "execution_count": 7,
   "metadata": {
    "deletable": false,
    "nbgrader": {
     "checksum": "74f428516744dd9cbabd94eaa300863e",
     "grade": false,
     "grade_id": "load_airports",
     "locked": false,
     "schema_version": 1,
     "solution": true
    }
   },
   "outputs": [],
   "source": [
    "# TODO: Load airports.dat.txt into a dataframe called airports_df\n",
    "# Read the above paragraph for namings!\n",
    "\n",
    "# YOUR CODE HERE\n",
    "# raise NotImplementedError()\n",
    "airports_df = pd.read_csv(filepath_or_buffer='airports.dat.txt', \n",
    "                          names=['airport_id','airport_name','city',\n",
    "                                 'airport_country','iata','icao',\n",
    "                                 'lat','lon','alt',\n",
    "                                 'timezone','dst','tz'])\n"
   ]
  },
  {
   "cell_type": "markdown",
   "metadata": {
    "deletable": false,
    "editable": false,
    "nbgrader": {
     "checksum": "72615ec70375d78ee469270efa6e49ac",
     "grade": false,
     "grade_id": "view_schema",
     "locked": true,
     "schema_version": 1,
     "solution": false
    }
   },
   "source": [
    "You should see info on your dataframe's schema if you run this cell..."
   ]
  },
  {
   "cell_type": "code",
   "execution_count": 8,
   "metadata": {
    "deletable": false,
    "editable": false,
    "nbgrader": {
     "checksum": "eac634722a6c7960b4bae0ffb9c34f7d",
     "grade": false,
     "grade_id": "airports_schema",
     "locked": true,
     "schema_version": 1,
     "solution": false
    }
   },
   "outputs": [
    {
     "data": {
      "text/plain": [
       "airport_id           int64\n",
       "airport_name        object\n",
       "city                object\n",
       "airport_country     object\n",
       "iata                object\n",
       "icao                object\n",
       "lat                float64\n",
       "lon                float64\n",
       "alt                  int64\n",
       "timezone           float64\n",
       "dst                 object\n",
       "tz                  object\n",
       "dtype: object"
      ]
     },
     "execution_count": 8,
     "metadata": {},
     "output_type": "execute_result"
    }
   ],
   "source": [
    "airports_df.dtypes"
   ]
  },
  {
   "cell_type": "markdown",
   "metadata": {
    "deletable": false,
    "editable": false,
    "nbgrader": {
     "checksum": "3685943a52a6cda2a93fd9faee2354b3",
     "grade": false,
     "grade_id": "test_cells",
     "locked": true,
     "schema_version": 1,
     "solution": false
    }
   },
   "source": [
    "This is the first of many *test case* cells that will help you to (partly) validate that you're on the right path with your answers.  If this (or any of the other cells) fails, this is a clue that your output isn't what we expect.\n",
    "\n",
    "We also have hidden test cells used to grade your homework, which are marked with:\n",
    "\n",
    "`[CIS 545 Test Cases] (XXX pts)` and end with `print('[CIS 545 Test Cases] (XXX pts)')`\n",
    "\n",
    "The test cells should be read-only, but you still should not attempt to edit any of these cells. Typically, our hidden cells are more restrictive in addition to being worth more points. The public test cells are meant just as a gentle guidance, and passing them doesn't mean your answer will receive full points! Being very thorough in your work will help the chances of that."
   ]
  },
  {
   "cell_type": "code",
   "execution_count": 9,
   "metadata": {
    "deletable": false,
    "editable": false,
    "nbgrader": {
     "checksum": "a1254db2064c70c8520aa61c7231774a",
     "grade": true,
     "grade_id": "test_airports1",
     "locked": true,
     "points": 0,
     "schema_version": 1,
     "solution": false
    }
   },
   "outputs": [
    {
     "name": "stdout",
     "output_type": "stream",
     "text": [
      "[CIS 545 Test Cases] (0 pts)\n"
     ]
    }
   ],
   "source": [
    "# [CIS 545 Test Cases] (0 pts)\n",
    "# This is an example of a test cell! \n",
    "# Please don't edit it!\n",
    "\n",
    "if (len(airports_df) < 8100 or len(airports_df) > 8150): \n",
    "    raise ValueError('Your DataFrame doesn''t have the expected number of rows')\n",
    "    \n",
    "if (len(airports_df.columns) < 11 or len(airports_df.columns) > 12): # 11 or 12 expected\n",
    "    raise ValueError('Your DataFrame doesn''t have the expected number of columns')\n",
    "\n",
    "try:\n",
    "    if (airports_df['airport_id'].dtype != 'int64'):\n",
    "        raise ValueError('Airport ID is wrong type, should be integer')\n",
    "    if (airports_df['airport_name'].dtype != 'object'):\n",
    "        raise ValueError('Airport name is wrong type, should be object (string)')\n",
    "    pass\n",
    "\n",
    "except KeyError:\n",
    "    raise KeyError('You likely misspelled a column name or didn''t load the dataframe')\n",
    "    pass\n",
    "\n",
    "\n",
    "print('[CIS 545 Test Cases] (0 pts)')"
   ]
  },
  {
   "cell_type": "code",
   "execution_count": 10,
   "metadata": {
    "deletable": false,
    "editable": false,
    "nbgrader": {
     "checksum": "11e65f3d69710ba0e6962b6dc84c1ced",
     "grade": true,
     "grade_id": "test_airports2",
     "locked": true,
     "points": 2,
     "schema_version": 1,
     "solution": false
    }
   },
   "outputs": [
    {
     "name": "stdout",
     "output_type": "stream",
     "text": [
      "[CIS 545 Test Cases] (2 pts)\n"
     ]
    }
   ],
   "source": [
    "# [CIS 545 Test Cases] (2 pts)\n",
    "# Testing dtypes of your dataframe\n",
    "\n",
    "\n",
    "print('[CIS 545 Test Cases] (2 pts)')"
   ]
  },
  {
   "cell_type": "code",
   "execution_count": 11,
   "metadata": {
    "deletable": false,
    "nbgrader": {
     "checksum": "ce3530702c7b74e6a62975d8a3ecb219",
     "grade": false,
     "grade_id": "load_airlines",
     "locked": false,
     "schema_version": 1,
     "solution": true
    }
   },
   "outputs": [],
   "source": [
    "# TODO: Load airlines.dat.txt into a dataframe called airlines_df\n",
    "# Again, check Dataset Descriptions!\n",
    "\n",
    "# YOUR CODE HERE\n",
    "# raise NotImplementedError()\n",
    "airlines_df = pd.read_csv(filepath_or_buffer='airlines.dat.txt', \n",
    "                          names=['airline_id','airline_name','alias','iata',\n",
    "                                 'icao','airline_callsign','airline_country','active'])\n"
   ]
  },
  {
   "cell_type": "code",
   "execution_count": 12,
   "metadata": {
    "deletable": false,
    "editable": false,
    "nbgrader": {
     "checksum": "f10c095a594793fd20e18db9ff190713",
     "grade": false,
     "grade_id": "airlines_dtypes",
     "locked": true,
     "schema_version": 1,
     "solution": false
    }
   },
   "outputs": [
    {
     "data": {
      "text/plain": [
       "airline_id           int64\n",
       "airline_name        object\n",
       "alias               object\n",
       "iata                object\n",
       "icao                object\n",
       "airline_callsign    object\n",
       "airline_country     object\n",
       "active              object\n",
       "dtype: object"
      ]
     },
     "execution_count": 12,
     "metadata": {},
     "output_type": "execute_result"
    }
   ],
   "source": [
    "airlines_df.dtypes"
   ]
  },
  {
   "cell_type": "code",
   "execution_count": 13,
   "metadata": {
    "deletable": false,
    "editable": false,
    "nbgrader": {
     "checksum": "1a43098f4b129911cf196eefffb35926",
     "grade": true,
     "grade_id": "test_airlines1",
     "locked": true,
     "points": 0,
     "schema_version": 1,
     "solution": false
    }
   },
   "outputs": [
    {
     "name": "stdout",
     "output_type": "stream",
     "text": [
      "[CIS 545 Test Cases] (0 pts)\n"
     ]
    }
   ],
   "source": [
    "# [CIS 545 Test Cases] (0 pts)\n",
    "\n",
    "if (len(airlines_df) < 6030 or len(airlines_df) > 6060):\n",
    "    raise ValueError('Unexpected number of airlines rows')\n",
    "    \n",
    "if (len(airlines_df.columns) != 8):\n",
    "    raise ValueError('Unexpected number of columns in airlines')\n",
    "\n",
    "\n",
    "print('[CIS 545 Test Cases] (0 pts)')"
   ]
  },
  {
   "cell_type": "code",
   "execution_count": 14,
   "metadata": {
    "deletable": false,
    "editable": false,
    "nbgrader": {
     "checksum": "be0535772dfcb170b2fdbcc4c8dc4865",
     "grade": true,
     "grade_id": "test_airlines2",
     "locked": true,
     "points": 2,
     "schema_version": 1,
     "solution": false
    }
   },
   "outputs": [
    {
     "name": "stdout",
     "output_type": "stream",
     "text": [
      "[CIS 545 Test Cases] (2 pts)\n"
     ]
    }
   ],
   "source": [
    "# [CIS 545 Test Cases] (2 pts)\n",
    "\n",
    "\n",
    "print('[CIS 545 Test Cases] (2 pts)')"
   ]
  },
  {
   "cell_type": "markdown",
   "metadata": {
    "deletable": false,
    "editable": false,
    "nbgrader": {
     "checksum": "8a966884499671fdca34eadb0ea12b99",
     "grade": false,
     "grade_id": "overview_routes",
     "locked": true,
     "schema_version": 1,
     "solution": false
    }
   },
   "source": [
    "Now, let's do the same for `routes` - notice that we have source and destination ID and IATA/ICAO code. For `Source airport` please use `src_iata_icao` and for `Source airport ID` please use `source_id` - for the destinations, use `target` for both (`target_iata_icao` and `target_id`).\n",
    "\n",
    "Note that `Codeshare` you should import as `code_share`"
   ]
  },
  {
   "cell_type": "code",
   "execution_count": 15,
   "metadata": {
    "deletable": false,
    "nbgrader": {
     "checksum": "60b4f6d355182f659398818ae7e26fc9",
     "grade": false,
     "grade_id": "load_routes",
     "locked": false,
     "schema_version": 1,
     "solution": true
    }
   },
   "outputs": [],
   "source": [
    "# TODO: Load routes.dat.txt into a dataframe called routes_df\n",
    "# Same idea as before!\n",
    "\n",
    "# YOUR CODE HERE\n",
    "# raise NotImplementedError()\n",
    "routes_df = pd.read_csv(filepath_or_buffer='routes.dat.txt',\n",
    "                        names=['airline_iata','airline_id','src_iata_icao',\n",
    "                               'source_id','target_iata_icao','target_id',\n",
    "                               'code_share','stops','equipment'])\n"
   ]
  },
  {
   "cell_type": "code",
   "execution_count": 16,
   "metadata": {
    "deletable": false,
    "editable": false,
    "nbgrader": {
     "checksum": "29d425b3daa2bfa6c90bc319e0d0ede3",
     "grade": false,
     "grade_id": "routes_dtypes",
     "locked": true,
     "schema_version": 1,
     "solution": false
    }
   },
   "outputs": [
    {
     "data": {
      "text/plain": [
       "airline_iata        object\n",
       "airline_id          object\n",
       "src_iata_icao       object\n",
       "source_id           object\n",
       "target_iata_icao    object\n",
       "target_id           object\n",
       "code_share          object\n",
       "stops                int64\n",
       "equipment           object\n",
       "dtype: object"
      ]
     },
     "execution_count": 16,
     "metadata": {},
     "output_type": "execute_result"
    }
   ],
   "source": [
    "routes_df.dtypes"
   ]
  },
  {
   "cell_type": "code",
   "execution_count": 17,
   "metadata": {
    "deletable": false,
    "editable": false,
    "nbgrader": {
     "checksum": "ed516fa5b831eb2f5b422b4175da3744",
     "grade": true,
     "grade_id": "test_routes1",
     "locked": true,
     "points": 0,
     "schema_version": 1,
     "solution": false
    }
   },
   "outputs": [
    {
     "name": "stdout",
     "output_type": "stream",
     "text": [
      "[CIS 545 Test Cases] (0 pts)\n"
     ]
    }
   ],
   "source": [
    "# [CIS 545 Test Cases] (0 pts)\n",
    "# Basic routes_df tests\n",
    "\n",
    "if (len(routes_df) < 67660 or len(routes_df) > 67700):\n",
    "    raise ValueError('Unexpected number of routes')\n",
    "    \n",
    "if (len(routes_df.columns) != 9):\n",
    "    raise ValueError('Unexpected number of route columns')\n",
    "\n",
    "if ('source_id' not in routes_df.columns):\n",
    "    raise KeyError('Missing expected source_id field from routes')\n",
    "\n",
    "if ('target_iata_icao' not in routes_df.columns):\n",
    "    raise KeyError('Missing expected target_iata_iaco field from routes')\n",
    "\n",
    "\n",
    "print('[CIS 545 Test Cases] (0 pts)')"
   ]
  },
  {
   "cell_type": "code",
   "execution_count": 18,
   "metadata": {
    "deletable": false,
    "editable": false,
    "nbgrader": {
     "checksum": "12fa56be1d61d9f662a697363ba96ed4",
     "grade": true,
     "grade_id": "test_routes2",
     "locked": true,
     "points": 2,
     "schema_version": 1,
     "solution": false
    }
   },
   "outputs": [
    {
     "name": "stdout",
     "output_type": "stream",
     "text": [
      "[CIS 545 Test Cases] (2 pts)\n"
     ]
    }
   ],
   "source": [
    "# [CIS 545 Test Cases] (2 pts)\n",
    "# routes_df data tests\n",
    "\n",
    "\n",
    "print('[CIS 545 Test Cases] (2 pts)')"
   ]
  },
  {
   "cell_type": "markdown",
   "metadata": {
    "deletable": false,
    "editable": false,
    "nbgrader": {
     "checksum": "addd02bc351d88394726366065af1577",
     "grade": false,
     "grade_id": "overview_flights",
     "locked": true,
     "schema_version": 1,
     "solution": false
    }
   },
   "source": [
    "For the last dataframe, `flights_df`, you are importing from a CSV with a header.  For now, have Python use the header names already in the file. When calling read_csv, use the option use_cols to specify a list of columns to import.  Only include the following fields (these were named in the CSV file header from BTS, and thus don’t follow Python naming conventions): [`YEAR`,`MONTH`,`DAY_OF_MONTH`,`CARRIER`,`FL_NUM`,`ORIGIN`,`DEST`,`ARR_DELAY_NEW`,`CANCELLED`]\n",
    "\n",
    "The data is at: https://docs.google.com/uc?export=download&id=1PPtjGx8lr_cDUfVa3qwlk1W8yY6hY91n"
   ]
  },
  {
   "cell_type": "code",
   "execution_count": 19,
   "metadata": {
    "deletable": false,
    "nbgrader": {
     "checksum": "f2f3d10902c5064cb651e320cadc201d",
     "grade": false,
     "grade_id": "load_flights",
     "locked": false,
     "schema_version": 1,
     "solution": true
    }
   },
   "outputs": [],
   "source": [
    "# TODO: Import https://docs.google.com/uc?export=download&id=1PPtjGx8lr_cDUfVa3qwlk1W8yY6hY91n into flights_df, but\n",
    "# also restrict to the following columns: 'YEAR','MONTH','DAY_OF_MONTH','CARRIER',\n",
    "# 'FL_NUM','ORIGIN','DEST','ARR_DELAY_NEW','CANCELLED'\n",
    "\n",
    "import requests\n",
    "from io import StringIO\n",
    "\n",
    "remote = requests.get('https://docs.google.com/uc?export=download&id=1PPtjGx8lr_cDUfVa3qwlk1W8yY6hY91n').content\n",
    "\n",
    "# You can read from the remote file via:\n",
    "# flights = pd.read_csv(StringIO(remote.decode('utf-8')))\n",
    "#\n",
    "# But you also need to use particular columns as per the HW spec\n",
    "\n",
    "# YOUR CODE HERE\n",
    "# raise NotImplementedError()\n",
    "flights_df = pd.read_csv(filepath_or_buffer=StringIO(remote.decode('utf-8')),\n",
    "                         usecols=['YEAR','MONTH','DAY_OF_MONTH',\n",
    "                                  'CARRIER','FL_NUM','ORIGIN',\n",
    "                                  'DEST','ARR_DELAY_NEW','CANCELLED'])\n"
   ]
  },
  {
   "cell_type": "code",
   "execution_count": 20,
   "metadata": {
    "deletable": false,
    "editable": false,
    "nbgrader": {
     "checksum": "06424f44664b2f97ed77f8cce4476415",
     "grade": true,
     "grade_id": "test_flights1",
     "locked": true,
     "points": 1,
     "schema_version": 1,
     "solution": false
    }
   },
   "outputs": [
    {
     "name": "stdout",
     "output_type": "stream",
     "text": [
      "[CIS 545 Test Cases] (1 pt)\n"
     ]
    }
   ],
   "source": [
    "# [CIS 545 Test Cases] (1 pt)\n",
    "# Basic checks on the size of flights - you should pass all these!\n",
    "\n",
    "if (len(flights_df) != 570118):\n",
    "    raise ValueError('Expected a different number of flights from' + str(len(flights_df)))\n",
    "    \n",
    "if (len(flights_df.columns) != 9):\n",
    "    raise ValueError('Perhaps you forgot to remove a column? Number of columns isn''t as expected, at ' + str(len(flights_df.columns)))\n",
    "        \n",
    "print('[CIS 545 Test Cases] (1 pt)')"
   ]
  },
  {
   "cell_type": "code",
   "execution_count": 21,
   "metadata": {
    "deletable": false,
    "editable": false,
    "nbgrader": {
     "checksum": "4921d32c12be7b7873e8af3a7be759af",
     "grade": true,
     "grade_id": "test_flights2",
     "locked": true,
     "points": 2,
     "schema_version": 1,
     "solution": false
    }
   },
   "outputs": [
    {
     "name": "stdout",
     "output_type": "stream",
     "text": [
      "[CIS 545 Test Cases] (2 pts)\n"
     ]
    }
   ],
   "source": [
    "# [CIS 545 Test Cases] (2 pts)\n",
    "\n",
    "\n",
    "print('[CIS 545 Test Cases] (2 pts)')"
   ]
  },
  {
   "cell_type": "markdown",
   "metadata": {
    "deletable": false,
    "editable": false,
    "nbgrader": {
     "checksum": "79a388129d66f667e99ac67a9e23f354",
     "grade": false,
     "grade_id": "notes_data",
     "locked": true,
     "schema_version": 1,
     "solution": false
    }
   },
   "source": [
    "## Notes on the data so far\n",
    "\n",
    "The data you've imported isn't yet perfect....\n",
    "\n",
    "**Nulls**.  You should see for airlines a variety of entries that say “NaN” (not a number), which represents “unknown” or null information.  In fact, if you look closely there are also other values representing “unknown” such as “\\N” and even “-”.  We’ll have to regularize all of this later!\n",
    "\n",
    "**Schemas**.  OK, you’ve loaded the DataFrames.  You can get the schemas -- the names and types of the columns -- of the DataFrames by the `dtypes` property.  Use `airlines_df.dtypes` and `routes_df.dtypes` to take a look at the schemas.  Now compare the types of `routes_df.airline_id` and `airlines_df.airline_id`.  You should see that one is `int64` and the other is `object`.\n",
    "\n",
    "Why is this?  Python automatically infers the types based on what it reads from the CSV files.  Unfortunately, things like “NaN” are actually floating-point (fractional) numbers and “\\N” is a string.  If a column has multiple kinds of values, Python will consider it to be an “object.”  Unfortunately, this will interfere with how we combine tables later, so we need to “clean” the data.  \n",
    "\n",
    "We'll come back to this later in Homework 1, Part I.  Before that we'll let you take a look at the data to see the issues, and then we'll import even more data (text data this time!)."
   ]
  },
  {
   "cell_type": "code",
   "execution_count": 22,
   "metadata": {
    "deletable": false,
    "nbgrader": {
     "checksum": "f4561febcff366c3ed1290cc38bbd665",
     "grade": false,
     "grade_id": "work1",
     "locked": false,
     "schema_version": 1,
     "solution": true
    }
   },
   "outputs": [
    {
     "data": {
      "text/plain": [
       "airline_id           int64\n",
       "airline_name        object\n",
       "alias               object\n",
       "iata                object\n",
       "icao                object\n",
       "airline_callsign    object\n",
       "airline_country     object\n",
       "active              object\n",
       "dtype: object"
      ]
     },
     "execution_count": 22,
     "metadata": {},
     "output_type": "execute_result"
    }
   ],
   "source": [
    "# YOUR CODE HERE\n",
    "# raise NotImplementedError()\n",
    "airlines_df.dtypes"
   ]
  },
  {
   "cell_type": "code",
   "execution_count": 23,
   "metadata": {
    "deletable": false,
    "nbgrader": {
     "checksum": "7db3fd01702729195f0300507edbcc6b",
     "grade": false,
     "grade_id": "work2",
     "locked": false,
     "schema_version": 1,
     "solution": true
    }
   },
   "outputs": [
    {
     "data": {
      "text/plain": [
       "airline_iata        object\n",
       "airline_id          object\n",
       "src_iata_icao       object\n",
       "source_id           object\n",
       "target_iata_icao    object\n",
       "target_id           object\n",
       "code_share          object\n",
       "stops                int64\n",
       "equipment           object\n",
       "dtype: object"
      ]
     },
     "execution_count": 23,
     "metadata": {},
     "output_type": "execute_result"
    }
   ],
   "source": [
    "# YOUR CODE HERE\n",
    "# raise NotImplementedError()\n",
    "routes_df.dtypes"
   ]
  },
  {
   "cell_type": "markdown",
   "metadata": {
    "deletable": false,
    "editable": false,
    "nbgrader": {
     "checksum": "aa6ebfb791f8678e3b521b72fa0fed1f",
     "grade": false,
     "grade_id": "step1-1_results",
     "locked": true,
     "schema_version": 1,
     "solution": false
    }
   },
   "source": [
    "## 1.1 Final Results\n",
    "Just run these cells! We've made them read-only and they're not graded."
   ]
  },
  {
   "cell_type": "code",
   "execution_count": 24,
   "metadata": {
    "deletable": false,
    "editable": false,
    "nbgrader": {
     "checksum": "13290e5562e37626cac7a1d78b8faaf6",
     "grade": false,
     "grade_id": "airports_head1",
     "locked": true,
     "schema_version": 1,
     "solution": false
    }
   },
   "outputs": [
    {
     "data": {
      "text/html": [
       "<div>\n",
       "<style scoped>\n",
       "    .dataframe tbody tr th:only-of-type {\n",
       "        vertical-align: middle;\n",
       "    }\n",
       "\n",
       "    .dataframe tbody tr th {\n",
       "        vertical-align: top;\n",
       "    }\n",
       "\n",
       "    .dataframe thead th {\n",
       "        text-align: right;\n",
       "    }\n",
       "</style>\n",
       "<table border=\"1\" class=\"dataframe\">\n",
       "  <thead>\n",
       "    <tr style=\"text-align: right;\">\n",
       "      <th></th>\n",
       "      <th>airport_id</th>\n",
       "      <th>airport_name</th>\n",
       "      <th>city</th>\n",
       "      <th>airport_country</th>\n",
       "      <th>iata</th>\n",
       "      <th>icao</th>\n",
       "      <th>lat</th>\n",
       "      <th>lon</th>\n",
       "      <th>alt</th>\n",
       "      <th>timezone</th>\n",
       "      <th>dst</th>\n",
       "      <th>tz</th>\n",
       "    </tr>\n",
       "  </thead>\n",
       "  <tbody>\n",
       "    <tr>\n",
       "      <th>0</th>\n",
       "      <td>1</td>\n",
       "      <td>Goroka</td>\n",
       "      <td>Goroka</td>\n",
       "      <td>Papua New Guinea</td>\n",
       "      <td>GKA</td>\n",
       "      <td>AYGA</td>\n",
       "      <td>-6.081689</td>\n",
       "      <td>145.391881</td>\n",
       "      <td>5282</td>\n",
       "      <td>10.0</td>\n",
       "      <td>U</td>\n",
       "      <td>Pacific/Port_Moresby</td>\n",
       "    </tr>\n",
       "    <tr>\n",
       "      <th>1</th>\n",
       "      <td>2</td>\n",
       "      <td>Madang</td>\n",
       "      <td>Madang</td>\n",
       "      <td>Papua New Guinea</td>\n",
       "      <td>MAG</td>\n",
       "      <td>AYMD</td>\n",
       "      <td>-5.207083</td>\n",
       "      <td>145.788700</td>\n",
       "      <td>20</td>\n",
       "      <td>10.0</td>\n",
       "      <td>U</td>\n",
       "      <td>Pacific/Port_Moresby</td>\n",
       "    </tr>\n",
       "    <tr>\n",
       "      <th>2</th>\n",
       "      <td>3</td>\n",
       "      <td>Mount Hagen</td>\n",
       "      <td>Mount Hagen</td>\n",
       "      <td>Papua New Guinea</td>\n",
       "      <td>HGU</td>\n",
       "      <td>AYMH</td>\n",
       "      <td>-5.826789</td>\n",
       "      <td>144.295861</td>\n",
       "      <td>5388</td>\n",
       "      <td>10.0</td>\n",
       "      <td>U</td>\n",
       "      <td>Pacific/Port_Moresby</td>\n",
       "    </tr>\n",
       "    <tr>\n",
       "      <th>3</th>\n",
       "      <td>4</td>\n",
       "      <td>Nadzab</td>\n",
       "      <td>Nadzab</td>\n",
       "      <td>Papua New Guinea</td>\n",
       "      <td>LAE</td>\n",
       "      <td>AYNZ</td>\n",
       "      <td>-6.569828</td>\n",
       "      <td>146.726242</td>\n",
       "      <td>239</td>\n",
       "      <td>10.0</td>\n",
       "      <td>U</td>\n",
       "      <td>Pacific/Port_Moresby</td>\n",
       "    </tr>\n",
       "    <tr>\n",
       "      <th>4</th>\n",
       "      <td>5</td>\n",
       "      <td>Port Moresby Jacksons Intl</td>\n",
       "      <td>Port Moresby</td>\n",
       "      <td>Papua New Guinea</td>\n",
       "      <td>POM</td>\n",
       "      <td>AYPY</td>\n",
       "      <td>-9.443383</td>\n",
       "      <td>147.220050</td>\n",
       "      <td>146</td>\n",
       "      <td>10.0</td>\n",
       "      <td>U</td>\n",
       "      <td>Pacific/Port_Moresby</td>\n",
       "    </tr>\n",
       "    <tr>\n",
       "      <th>5</th>\n",
       "      <td>6</td>\n",
       "      <td>Wewak Intl</td>\n",
       "      <td>Wewak</td>\n",
       "      <td>Papua New Guinea</td>\n",
       "      <td>WWK</td>\n",
       "      <td>AYWK</td>\n",
       "      <td>-3.583828</td>\n",
       "      <td>143.669186</td>\n",
       "      <td>19</td>\n",
       "      <td>10.0</td>\n",
       "      <td>U</td>\n",
       "      <td>Pacific/Port_Moresby</td>\n",
       "    </tr>\n",
       "    <tr>\n",
       "      <th>6</th>\n",
       "      <td>7</td>\n",
       "      <td>Narsarsuaq</td>\n",
       "      <td>Narssarssuaq</td>\n",
       "      <td>Greenland</td>\n",
       "      <td>UAK</td>\n",
       "      <td>BGBW</td>\n",
       "      <td>61.160517</td>\n",
       "      <td>-45.425978</td>\n",
       "      <td>112</td>\n",
       "      <td>-3.0</td>\n",
       "      <td>E</td>\n",
       "      <td>America/Godthab</td>\n",
       "    </tr>\n",
       "    <tr>\n",
       "      <th>7</th>\n",
       "      <td>8</td>\n",
       "      <td>Nuuk</td>\n",
       "      <td>Godthaab</td>\n",
       "      <td>Greenland</td>\n",
       "      <td>GOH</td>\n",
       "      <td>BGGH</td>\n",
       "      <td>64.190922</td>\n",
       "      <td>-51.678064</td>\n",
       "      <td>283</td>\n",
       "      <td>-3.0</td>\n",
       "      <td>E</td>\n",
       "      <td>America/Godthab</td>\n",
       "    </tr>\n",
       "    <tr>\n",
       "      <th>8</th>\n",
       "      <td>9</td>\n",
       "      <td>Sondre Stromfjord</td>\n",
       "      <td>Sondrestrom</td>\n",
       "      <td>Greenland</td>\n",
       "      <td>SFJ</td>\n",
       "      <td>BGSF</td>\n",
       "      <td>67.016969</td>\n",
       "      <td>-50.689325</td>\n",
       "      <td>165</td>\n",
       "      <td>-3.0</td>\n",
       "      <td>E</td>\n",
       "      <td>America/Godthab</td>\n",
       "    </tr>\n",
       "    <tr>\n",
       "      <th>9</th>\n",
       "      <td>10</td>\n",
       "      <td>Thule Air Base</td>\n",
       "      <td>Thule</td>\n",
       "      <td>Greenland</td>\n",
       "      <td>THU</td>\n",
       "      <td>BGTL</td>\n",
       "      <td>76.531203</td>\n",
       "      <td>-68.703161</td>\n",
       "      <td>251</td>\n",
       "      <td>-4.0</td>\n",
       "      <td>E</td>\n",
       "      <td>America/Thule</td>\n",
       "    </tr>\n",
       "  </tbody>\n",
       "</table>\n",
       "</div>"
      ],
      "text/plain": [
       "   airport_id                airport_name          city   airport_country  \\\n",
       "0           1                      Goroka        Goroka  Papua New Guinea   \n",
       "1           2                      Madang        Madang  Papua New Guinea   \n",
       "2           3                 Mount Hagen   Mount Hagen  Papua New Guinea   \n",
       "3           4                      Nadzab        Nadzab  Papua New Guinea   \n",
       "4           5  Port Moresby Jacksons Intl  Port Moresby  Papua New Guinea   \n",
       "5           6                  Wewak Intl         Wewak  Papua New Guinea   \n",
       "6           7                  Narsarsuaq  Narssarssuaq         Greenland   \n",
       "7           8                        Nuuk      Godthaab         Greenland   \n",
       "8           9           Sondre Stromfjord   Sondrestrom         Greenland   \n",
       "9          10              Thule Air Base         Thule         Greenland   \n",
       "\n",
       "  iata  icao        lat         lon   alt  timezone dst                    tz  \n",
       "0  GKA  AYGA  -6.081689  145.391881  5282      10.0   U  Pacific/Port_Moresby  \n",
       "1  MAG  AYMD  -5.207083  145.788700    20      10.0   U  Pacific/Port_Moresby  \n",
       "2  HGU  AYMH  -5.826789  144.295861  5388      10.0   U  Pacific/Port_Moresby  \n",
       "3  LAE  AYNZ  -6.569828  146.726242   239      10.0   U  Pacific/Port_Moresby  \n",
       "4  POM  AYPY  -9.443383  147.220050   146      10.0   U  Pacific/Port_Moresby  \n",
       "5  WWK  AYWK  -3.583828  143.669186    19      10.0   U  Pacific/Port_Moresby  \n",
       "6  UAK  BGBW  61.160517  -45.425978   112      -3.0   E       America/Godthab  \n",
       "7  GOH  BGGH  64.190922  -51.678064   283      -3.0   E       America/Godthab  \n",
       "8  SFJ  BGSF  67.016969  -50.689325   165      -3.0   E       America/Godthab  \n",
       "9  THU  BGTL  76.531203  -68.703161   251      -4.0   E         America/Thule  "
      ]
     },
     "execution_count": 24,
     "metadata": {},
     "output_type": "execute_result"
    }
   ],
   "source": [
    "# Output airports_df\n",
    "airports_df.head(10)"
   ]
  },
  {
   "cell_type": "code",
   "execution_count": 25,
   "metadata": {
    "deletable": false,
    "editable": false,
    "nbgrader": {
     "checksum": "0b0b14ced6b2bfc76ce22755dfd0ea7a",
     "grade": false,
     "grade_id": "airlines_head1",
     "locked": true,
     "schema_version": 1,
     "solution": false
    }
   },
   "outputs": [
    {
     "data": {
      "text/html": [
       "<div>\n",
       "<style scoped>\n",
       "    .dataframe tbody tr th:only-of-type {\n",
       "        vertical-align: middle;\n",
       "    }\n",
       "\n",
       "    .dataframe tbody tr th {\n",
       "        vertical-align: top;\n",
       "    }\n",
       "\n",
       "    .dataframe thead th {\n",
       "        text-align: right;\n",
       "    }\n",
       "</style>\n",
       "<table border=\"1\" class=\"dataframe\">\n",
       "  <thead>\n",
       "    <tr style=\"text-align: right;\">\n",
       "      <th></th>\n",
       "      <th>airline_id</th>\n",
       "      <th>airline_name</th>\n",
       "      <th>alias</th>\n",
       "      <th>iata</th>\n",
       "      <th>icao</th>\n",
       "      <th>airline_callsign</th>\n",
       "      <th>airline_country</th>\n",
       "      <th>active</th>\n",
       "    </tr>\n",
       "  </thead>\n",
       "  <tbody>\n",
       "    <tr>\n",
       "      <th>0</th>\n",
       "      <td>1</td>\n",
       "      <td>Private flight</td>\n",
       "      <td>\\N</td>\n",
       "      <td>-</td>\n",
       "      <td>NaN</td>\n",
       "      <td>NaN</td>\n",
       "      <td>NaN</td>\n",
       "      <td>Y</td>\n",
       "    </tr>\n",
       "    <tr>\n",
       "      <th>1</th>\n",
       "      <td>2</td>\n",
       "      <td>135 Airways</td>\n",
       "      <td>\\N</td>\n",
       "      <td>NaN</td>\n",
       "      <td>GNL</td>\n",
       "      <td>GENERAL</td>\n",
       "      <td>United States</td>\n",
       "      <td>N</td>\n",
       "    </tr>\n",
       "    <tr>\n",
       "      <th>2</th>\n",
       "      <td>3</td>\n",
       "      <td>1Time Airline</td>\n",
       "      <td>\\N</td>\n",
       "      <td>1T</td>\n",
       "      <td>RNX</td>\n",
       "      <td>NEXTIME</td>\n",
       "      <td>South Africa</td>\n",
       "      <td>Y</td>\n",
       "    </tr>\n",
       "    <tr>\n",
       "      <th>3</th>\n",
       "      <td>4</td>\n",
       "      <td>2 Sqn No 1 Elementary Flying Training School</td>\n",
       "      <td>\\N</td>\n",
       "      <td>NaN</td>\n",
       "      <td>WYT</td>\n",
       "      <td>NaN</td>\n",
       "      <td>United Kingdom</td>\n",
       "      <td>N</td>\n",
       "    </tr>\n",
       "    <tr>\n",
       "      <th>4</th>\n",
       "      <td>5</td>\n",
       "      <td>213 Flight Unit</td>\n",
       "      <td>\\N</td>\n",
       "      <td>NaN</td>\n",
       "      <td>TFU</td>\n",
       "      <td>NaN</td>\n",
       "      <td>Russia</td>\n",
       "      <td>N</td>\n",
       "    </tr>\n",
       "    <tr>\n",
       "      <th>5</th>\n",
       "      <td>6</td>\n",
       "      <td>223 Flight Unit State Airline</td>\n",
       "      <td>\\N</td>\n",
       "      <td>NaN</td>\n",
       "      <td>CHD</td>\n",
       "      <td>CHKALOVSK-AVIA</td>\n",
       "      <td>Russia</td>\n",
       "      <td>N</td>\n",
       "    </tr>\n",
       "    <tr>\n",
       "      <th>6</th>\n",
       "      <td>7</td>\n",
       "      <td>224th Flight Unit</td>\n",
       "      <td>\\N</td>\n",
       "      <td>NaN</td>\n",
       "      <td>TTF</td>\n",
       "      <td>CARGO UNIT</td>\n",
       "      <td>Russia</td>\n",
       "      <td>N</td>\n",
       "    </tr>\n",
       "    <tr>\n",
       "      <th>7</th>\n",
       "      <td>8</td>\n",
       "      <td>247 Jet Ltd</td>\n",
       "      <td>\\N</td>\n",
       "      <td>NaN</td>\n",
       "      <td>TWF</td>\n",
       "      <td>CLOUD RUNNER</td>\n",
       "      <td>United Kingdom</td>\n",
       "      <td>N</td>\n",
       "    </tr>\n",
       "    <tr>\n",
       "      <th>8</th>\n",
       "      <td>9</td>\n",
       "      <td>3D Aviation</td>\n",
       "      <td>\\N</td>\n",
       "      <td>NaN</td>\n",
       "      <td>SEC</td>\n",
       "      <td>SECUREX</td>\n",
       "      <td>United States</td>\n",
       "      <td>N</td>\n",
       "    </tr>\n",
       "    <tr>\n",
       "      <th>9</th>\n",
       "      <td>10</td>\n",
       "      <td>40-Mile Air</td>\n",
       "      <td>\\N</td>\n",
       "      <td>Q5</td>\n",
       "      <td>MLA</td>\n",
       "      <td>MILE-AIR</td>\n",
       "      <td>United States</td>\n",
       "      <td>Y</td>\n",
       "    </tr>\n",
       "  </tbody>\n",
       "</table>\n",
       "</div>"
      ],
      "text/plain": [
       "   airline_id                                  airline_name alias iata icao  \\\n",
       "0           1                                Private flight    \\N    -  NaN   \n",
       "1           2                                   135 Airways    \\N  NaN  GNL   \n",
       "2           3                                 1Time Airline    \\N   1T  RNX   \n",
       "3           4  2 Sqn No 1 Elementary Flying Training School    \\N  NaN  WYT   \n",
       "4           5                               213 Flight Unit    \\N  NaN  TFU   \n",
       "5           6                 223 Flight Unit State Airline    \\N  NaN  CHD   \n",
       "6           7                             224th Flight Unit    \\N  NaN  TTF   \n",
       "7           8                                   247 Jet Ltd    \\N  NaN  TWF   \n",
       "8           9                                   3D Aviation    \\N  NaN  SEC   \n",
       "9          10                                   40-Mile Air    \\N   Q5  MLA   \n",
       "\n",
       "  airline_callsign airline_country active  \n",
       "0              NaN             NaN      Y  \n",
       "1          GENERAL   United States      N  \n",
       "2          NEXTIME    South Africa      Y  \n",
       "3              NaN  United Kingdom      N  \n",
       "4              NaN          Russia      N  \n",
       "5   CHKALOVSK-AVIA          Russia      N  \n",
       "6       CARGO UNIT          Russia      N  \n",
       "7     CLOUD RUNNER  United Kingdom      N  \n",
       "8          SECUREX   United States      N  \n",
       "9         MILE-AIR   United States      Y  "
      ]
     },
     "execution_count": 25,
     "metadata": {},
     "output_type": "execute_result"
    }
   ],
   "source": [
    "# Output airlines_df\n",
    "airlines_df.head(10)"
   ]
  },
  {
   "cell_type": "code",
   "execution_count": 26,
   "metadata": {
    "deletable": false,
    "editable": false,
    "nbgrader": {
     "checksum": "10f5e6bb1a56bf86cdfc74117076b99b",
     "grade": false,
     "grade_id": "routes_head1",
     "locked": true,
     "schema_version": 1,
     "solution": false
    }
   },
   "outputs": [
    {
     "data": {
      "text/html": [
       "<div>\n",
       "<style scoped>\n",
       "    .dataframe tbody tr th:only-of-type {\n",
       "        vertical-align: middle;\n",
       "    }\n",
       "\n",
       "    .dataframe tbody tr th {\n",
       "        vertical-align: top;\n",
       "    }\n",
       "\n",
       "    .dataframe thead th {\n",
       "        text-align: right;\n",
       "    }\n",
       "</style>\n",
       "<table border=\"1\" class=\"dataframe\">\n",
       "  <thead>\n",
       "    <tr style=\"text-align: right;\">\n",
       "      <th></th>\n",
       "      <th>airline_iata</th>\n",
       "      <th>airline_id</th>\n",
       "      <th>src_iata_icao</th>\n",
       "      <th>source_id</th>\n",
       "      <th>target_iata_icao</th>\n",
       "      <th>target_id</th>\n",
       "      <th>code_share</th>\n",
       "      <th>stops</th>\n",
       "      <th>equipment</th>\n",
       "    </tr>\n",
       "  </thead>\n",
       "  <tbody>\n",
       "    <tr>\n",
       "      <th>0</th>\n",
       "      <td>2B</td>\n",
       "      <td>410</td>\n",
       "      <td>AER</td>\n",
       "      <td>2965</td>\n",
       "      <td>KZN</td>\n",
       "      <td>2990</td>\n",
       "      <td>NaN</td>\n",
       "      <td>0</td>\n",
       "      <td>CR2</td>\n",
       "    </tr>\n",
       "    <tr>\n",
       "      <th>1</th>\n",
       "      <td>2B</td>\n",
       "      <td>410</td>\n",
       "      <td>ASF</td>\n",
       "      <td>2966</td>\n",
       "      <td>KZN</td>\n",
       "      <td>2990</td>\n",
       "      <td>NaN</td>\n",
       "      <td>0</td>\n",
       "      <td>CR2</td>\n",
       "    </tr>\n",
       "    <tr>\n",
       "      <th>2</th>\n",
       "      <td>2B</td>\n",
       "      <td>410</td>\n",
       "      <td>ASF</td>\n",
       "      <td>2966</td>\n",
       "      <td>MRV</td>\n",
       "      <td>2962</td>\n",
       "      <td>NaN</td>\n",
       "      <td>0</td>\n",
       "      <td>CR2</td>\n",
       "    </tr>\n",
       "    <tr>\n",
       "      <th>3</th>\n",
       "      <td>2B</td>\n",
       "      <td>410</td>\n",
       "      <td>CEK</td>\n",
       "      <td>2968</td>\n",
       "      <td>KZN</td>\n",
       "      <td>2990</td>\n",
       "      <td>NaN</td>\n",
       "      <td>0</td>\n",
       "      <td>CR2</td>\n",
       "    </tr>\n",
       "    <tr>\n",
       "      <th>4</th>\n",
       "      <td>2B</td>\n",
       "      <td>410</td>\n",
       "      <td>CEK</td>\n",
       "      <td>2968</td>\n",
       "      <td>OVB</td>\n",
       "      <td>4078</td>\n",
       "      <td>NaN</td>\n",
       "      <td>0</td>\n",
       "      <td>CR2</td>\n",
       "    </tr>\n",
       "    <tr>\n",
       "      <th>5</th>\n",
       "      <td>2B</td>\n",
       "      <td>410</td>\n",
       "      <td>DME</td>\n",
       "      <td>4029</td>\n",
       "      <td>KZN</td>\n",
       "      <td>2990</td>\n",
       "      <td>NaN</td>\n",
       "      <td>0</td>\n",
       "      <td>CR2</td>\n",
       "    </tr>\n",
       "    <tr>\n",
       "      <th>6</th>\n",
       "      <td>2B</td>\n",
       "      <td>410</td>\n",
       "      <td>DME</td>\n",
       "      <td>4029</td>\n",
       "      <td>NBC</td>\n",
       "      <td>6969</td>\n",
       "      <td>NaN</td>\n",
       "      <td>0</td>\n",
       "      <td>CR2</td>\n",
       "    </tr>\n",
       "    <tr>\n",
       "      <th>7</th>\n",
       "      <td>2B</td>\n",
       "      <td>410</td>\n",
       "      <td>DME</td>\n",
       "      <td>4029</td>\n",
       "      <td>TGK</td>\n",
       "      <td>\\N</td>\n",
       "      <td>NaN</td>\n",
       "      <td>0</td>\n",
       "      <td>CR2</td>\n",
       "    </tr>\n",
       "    <tr>\n",
       "      <th>8</th>\n",
       "      <td>2B</td>\n",
       "      <td>410</td>\n",
       "      <td>DME</td>\n",
       "      <td>4029</td>\n",
       "      <td>UUA</td>\n",
       "      <td>6160</td>\n",
       "      <td>NaN</td>\n",
       "      <td>0</td>\n",
       "      <td>CR2</td>\n",
       "    </tr>\n",
       "    <tr>\n",
       "      <th>9</th>\n",
       "      <td>2B</td>\n",
       "      <td>410</td>\n",
       "      <td>EGO</td>\n",
       "      <td>6156</td>\n",
       "      <td>KGD</td>\n",
       "      <td>2952</td>\n",
       "      <td>NaN</td>\n",
       "      <td>0</td>\n",
       "      <td>CR2</td>\n",
       "    </tr>\n",
       "  </tbody>\n",
       "</table>\n",
       "</div>"
      ],
      "text/plain": [
       "  airline_iata airline_id src_iata_icao source_id target_iata_icao target_id  \\\n",
       "0           2B        410           AER      2965              KZN      2990   \n",
       "1           2B        410           ASF      2966              KZN      2990   \n",
       "2           2B        410           ASF      2966              MRV      2962   \n",
       "3           2B        410           CEK      2968              KZN      2990   \n",
       "4           2B        410           CEK      2968              OVB      4078   \n",
       "5           2B        410           DME      4029              KZN      2990   \n",
       "6           2B        410           DME      4029              NBC      6969   \n",
       "7           2B        410           DME      4029              TGK        \\N   \n",
       "8           2B        410           DME      4029              UUA      6160   \n",
       "9           2B        410           EGO      6156              KGD      2952   \n",
       "\n",
       "  code_share  stops equipment  \n",
       "0        NaN      0       CR2  \n",
       "1        NaN      0       CR2  \n",
       "2        NaN      0       CR2  \n",
       "3        NaN      0       CR2  \n",
       "4        NaN      0       CR2  \n",
       "5        NaN      0       CR2  \n",
       "6        NaN      0       CR2  \n",
       "7        NaN      0       CR2  \n",
       "8        NaN      0       CR2  \n",
       "9        NaN      0       CR2  "
      ]
     },
     "execution_count": 26,
     "metadata": {},
     "output_type": "execute_result"
    }
   ],
   "source": [
    "# Output routes_df\n",
    "routes_df.head(10)"
   ]
  },
  {
   "cell_type": "code",
   "execution_count": 27,
   "metadata": {
    "deletable": false,
    "editable": false,
    "nbgrader": {
     "checksum": "4e905f7a05cf2fb76fc845089db62c2a",
     "grade": false,
     "grade_id": "flights_head1",
     "locked": true,
     "schema_version": 1,
     "solution": false
    }
   },
   "outputs": [
    {
     "data": {
      "text/html": [
       "<div>\n",
       "<style scoped>\n",
       "    .dataframe tbody tr th:only-of-type {\n",
       "        vertical-align: middle;\n",
       "    }\n",
       "\n",
       "    .dataframe tbody tr th {\n",
       "        vertical-align: top;\n",
       "    }\n",
       "\n",
       "    .dataframe thead th {\n",
       "        text-align: right;\n",
       "    }\n",
       "</style>\n",
       "<table border=\"1\" class=\"dataframe\">\n",
       "  <thead>\n",
       "    <tr style=\"text-align: right;\">\n",
       "      <th></th>\n",
       "      <th>YEAR</th>\n",
       "      <th>MONTH</th>\n",
       "      <th>DAY_OF_MONTH</th>\n",
       "      <th>CARRIER</th>\n",
       "      <th>FL_NUM</th>\n",
       "      <th>ORIGIN</th>\n",
       "      <th>DEST</th>\n",
       "      <th>ARR_DELAY_NEW</th>\n",
       "      <th>CANCELLED</th>\n",
       "    </tr>\n",
       "  </thead>\n",
       "  <tbody>\n",
       "    <tr>\n",
       "      <th>0</th>\n",
       "      <td>2018</td>\n",
       "      <td>1</td>\n",
       "      <td>2</td>\n",
       "      <td>WN</td>\n",
       "      <td>1325</td>\n",
       "      <td>SJU</td>\n",
       "      <td>MCO</td>\n",
       "      <td>0.0</td>\n",
       "      <td>0.0</td>\n",
       "    </tr>\n",
       "    <tr>\n",
       "      <th>1</th>\n",
       "      <td>2018</td>\n",
       "      <td>1</td>\n",
       "      <td>2</td>\n",
       "      <td>WN</td>\n",
       "      <td>5159</td>\n",
       "      <td>SJU</td>\n",
       "      <td>MCO</td>\n",
       "      <td>0.0</td>\n",
       "      <td>0.0</td>\n",
       "    </tr>\n",
       "    <tr>\n",
       "      <th>2</th>\n",
       "      <td>2018</td>\n",
       "      <td>1</td>\n",
       "      <td>2</td>\n",
       "      <td>WN</td>\n",
       "      <td>5890</td>\n",
       "      <td>SJU</td>\n",
       "      <td>MCO</td>\n",
       "      <td>9.0</td>\n",
       "      <td>0.0</td>\n",
       "    </tr>\n",
       "    <tr>\n",
       "      <th>3</th>\n",
       "      <td>2018</td>\n",
       "      <td>1</td>\n",
       "      <td>2</td>\n",
       "      <td>WN</td>\n",
       "      <td>6618</td>\n",
       "      <td>SJU</td>\n",
       "      <td>MCO</td>\n",
       "      <td>0.0</td>\n",
       "      <td>0.0</td>\n",
       "    </tr>\n",
       "    <tr>\n",
       "      <th>4</th>\n",
       "      <td>2018</td>\n",
       "      <td>1</td>\n",
       "      <td>2</td>\n",
       "      <td>WN</td>\n",
       "      <td>1701</td>\n",
       "      <td>SJU</td>\n",
       "      <td>MDW</td>\n",
       "      <td>8.0</td>\n",
       "      <td>0.0</td>\n",
       "    </tr>\n",
       "    <tr>\n",
       "      <th>5</th>\n",
       "      <td>2018</td>\n",
       "      <td>1</td>\n",
       "      <td>2</td>\n",
       "      <td>WN</td>\n",
       "      <td>844</td>\n",
       "      <td>SJU</td>\n",
       "      <td>TPA</td>\n",
       "      <td>23.0</td>\n",
       "      <td>0.0</td>\n",
       "    </tr>\n",
       "    <tr>\n",
       "      <th>6</th>\n",
       "      <td>2018</td>\n",
       "      <td>1</td>\n",
       "      <td>2</td>\n",
       "      <td>WN</td>\n",
       "      <td>4679</td>\n",
       "      <td>SJU</td>\n",
       "      <td>TPA</td>\n",
       "      <td>0.0</td>\n",
       "      <td>0.0</td>\n",
       "    </tr>\n",
       "    <tr>\n",
       "      <th>7</th>\n",
       "      <td>2018</td>\n",
       "      <td>1</td>\n",
       "      <td>2</td>\n",
       "      <td>WN</td>\n",
       "      <td>6294</td>\n",
       "      <td>SLC</td>\n",
       "      <td>BUR</td>\n",
       "      <td>20.0</td>\n",
       "      <td>0.0</td>\n",
       "    </tr>\n",
       "    <tr>\n",
       "      <th>8</th>\n",
       "      <td>2018</td>\n",
       "      <td>1</td>\n",
       "      <td>2</td>\n",
       "      <td>WN</td>\n",
       "      <td>5245</td>\n",
       "      <td>SLC</td>\n",
       "      <td>DAL</td>\n",
       "      <td>0.0</td>\n",
       "      <td>0.0</td>\n",
       "    </tr>\n",
       "    <tr>\n",
       "      <th>9</th>\n",
       "      <td>2018</td>\n",
       "      <td>1</td>\n",
       "      <td>2</td>\n",
       "      <td>WN</td>\n",
       "      <td>2278</td>\n",
       "      <td>SLC</td>\n",
       "      <td>DEN</td>\n",
       "      <td>0.0</td>\n",
       "      <td>0.0</td>\n",
       "    </tr>\n",
       "  </tbody>\n",
       "</table>\n",
       "</div>"
      ],
      "text/plain": [
       "   YEAR  MONTH  DAY_OF_MONTH CARRIER  FL_NUM ORIGIN DEST  ARR_DELAY_NEW  \\\n",
       "0  2018      1             2      WN    1325    SJU  MCO            0.0   \n",
       "1  2018      1             2      WN    5159    SJU  MCO            0.0   \n",
       "2  2018      1             2      WN    5890    SJU  MCO            9.0   \n",
       "3  2018      1             2      WN    6618    SJU  MCO            0.0   \n",
       "4  2018      1             2      WN    1701    SJU  MDW            8.0   \n",
       "5  2018      1             2      WN     844    SJU  TPA           23.0   \n",
       "6  2018      1             2      WN    4679    SJU  TPA            0.0   \n",
       "7  2018      1             2      WN    6294    SLC  BUR           20.0   \n",
       "8  2018      1             2      WN    5245    SLC  DAL            0.0   \n",
       "9  2018      1             2      WN    2278    SLC  DEN            0.0   \n",
       "\n",
       "   CANCELLED  \n",
       "0        0.0  \n",
       "1        0.0  \n",
       "2        0.0  \n",
       "3        0.0  \n",
       "4        0.0  \n",
       "5        0.0  \n",
       "6        0.0  \n",
       "7        0.0  \n",
       "8        0.0  \n",
       "9        0.0  "
      ]
     },
     "execution_count": 27,
     "metadata": {},
     "output_type": "execute_result"
    }
   ],
   "source": [
    "# Output flights_df\n",
    "flights_df.head(10)"
   ]
  },
  {
   "cell_type": "markdown",
   "metadata": {
    "deletable": false,
    "editable": false,
    "nbgrader": {
     "checksum": "1bc105d044445c5f8506565649f96c2e",
     "grade": false,
     "grade_id": "step1-2",
     "locked": true,
     "schema_version": 1,
     "solution": false
    }
   },
   "source": [
    "## 1.2 Importing Text Data\n",
    "\n",
    "We are going to scrape data from the aircraft_incidents.htm webpage using the *beautifulsoup4* package. More details can be found in the documentation: https://www.crummy.com/software/BeautifulSoup/bs4/doc/.\n",
    "\n",
    "Run the code snippet that stores the web content in soup. Once the content is extracted, we need to get rid of the HTML tags and select the data we are going to be looking at. The data we need are the year and the description of the incidents under that year. It can be seen that the HTML tag (almost always) for the year is `<h3>` and for the incidents it is `<li>`. "
   ]
  },
  {
   "cell_type": "code",
   "execution_count": 28,
   "metadata": {
    "deletable": false,
    "editable": false,
    "nbgrader": {
     "checksum": "7f49971b74ea804404280362bd0fb367",
     "grade": false,
     "grade_id": "bs4",
     "locked": true,
     "schema_version": 1,
     "solution": false
    }
   },
   "outputs": [],
   "source": [
    "# bs4 is one of the packages frequently used for HTML parsing!\n",
    "# Just run this cell, but reading the bs4 docs will help later...\n",
    "\n",
    "from bs4 import BeautifulSoup\n",
    "input_html = \"aircraft_incidents.htm\"\n",
    "\n",
    "# Open file I/O\n",
    "with open(input_html, \"r\") as ifile:\n",
    "    # soup is the bs4 object \n",
    "    soup = BeautifulSoup(ifile, 'html.parser')"
   ]
  },
  {
   "cell_type": "markdown",
   "metadata": {
    "deletable": false,
    "editable": false,
    "nbgrader": {
     "checksum": "f882bb5735977ed872198b5a13a8ad44",
     "grade": false,
     "grade_id": "bs4_findall",
     "locked": true,
     "schema_version": 1,
     "solution": false
    }
   },
   "source": [
    "Using beautifulsoup4’s `find_all`(list of tags) function, only select the content under those HTML tags. Store the data in a list of strings called `selected_data`, where each year or incident description is a separate string in the list. "
   ]
  },
  {
   "cell_type": "code",
   "execution_count": 29,
   "metadata": {
    "deletable": false,
    "nbgrader": {
     "checksum": "b684c1663ba6f81aaf73f03fdcf51fe5",
     "grade": false,
     "grade_id": "selected_data",
     "locked": false,
     "schema_version": 1,
     "solution": true
    }
   },
   "outputs": [],
   "source": [
    "# TODO: Select Year and Incident description. It can be seen that they are usually\n",
    "# <h3> or <li> tags.\n",
    "'''\n",
    "def process_tag(x):\n",
    "    output = x.get_text()\n",
    "    if x.name == 'h3':\n",
    "        obj = re.match(r'\\d+',output)\n",
    "        if obj:\n",
    "            output = obj.group()\n",
    "        else:\n",
    "            output = None\n",
    "    return output\n",
    "'''\n",
    "# Assign the results to variable selected_data. \n",
    "selected_data = [ x.get_text() for x in soup.find_all(['h3','li']) ] # Fill this in with your code after!\n",
    "#print(selected_data)\n",
    "# YOUR CODE HERE\n",
    "# raise NotImplementedError()"
   ]
  },
  {
   "cell_type": "code",
   "execution_count": 30,
   "metadata": {
    "deletable": false,
    "editable": false,
    "nbgrader": {
     "checksum": "a3ee24655f43988da69fb9c7ed3b1c33",
     "grade": true,
     "grade_id": "test_selected1",
     "locked": true,
     "points": 1,
     "schema_version": 1,
     "solution": false
    }
   },
   "outputs": [
    {
     "name": "stdout",
     "output_type": "stream",
     "text": [
      "[CIS 545 Test Cases] (1 pt)\n"
     ]
    }
   ],
   "source": [
    "# [CIS 545 Test Cases] (1 pt)\n",
    "# Basic checks on selected_data\n",
    "\n",
    "if (not type(selected_data) is list):\n",
    "    raise ValueError('''For efficiency, please \n",
    "    store selected_data as list''')\n",
    "    \n",
    "if (len(selected_data) < 1570 or len(selected_data) > 1585):\n",
    "    raise ValueError(\"Don't have the expected number of entries\")\n",
    "    \n",
    "\n",
    "print('[CIS 545 Test Cases] (1 pt)')"
   ]
  },
  {
   "cell_type": "code",
   "execution_count": 31,
   "metadata": {
    "deletable": false,
    "editable": false,
    "nbgrader": {
     "checksum": "0e30165a68caedbf57a5a98bac08bc37",
     "grade": true,
     "grade_id": "test_selected2",
     "locked": true,
     "points": 2,
     "schema_version": 1,
     "solution": false
    }
   },
   "outputs": [
    {
     "name": "stdout",
     "output_type": "stream",
     "text": [
      "[CIS 545 Test Cases] (2 pts)\n"
     ]
    }
   ],
   "source": [
    "# [CIS 545 Test Cases] (2 pts)\n",
    "# Checking selected_data more rigorously\n",
    "\n",
    "\n",
    "print('[CIS 545 Test Cases] (2 pts)')"
   ]
  },
  {
   "cell_type": "code",
   "execution_count": 32,
   "metadata": {
    "deletable": false,
    "editable": false,
    "nbgrader": {
     "checksum": "51b5208b342fe481462be1770eb68a40",
     "grade": true,
     "grade_id": "test_selected3",
     "locked": true,
     "points": 2,
     "schema_version": 1,
     "solution": false
    }
   },
   "outputs": [
    {
     "name": "stdout",
     "output_type": "stream",
     "text": [
      "[CIS 545 Test Cases] (2 pts)\n"
     ]
    }
   ],
   "source": [
    "# [CIS 545 Test Cases] (2 pts)\n",
    "# Checking selected_data more rigorously\n",
    "\n",
    "\n",
    "print('[CIS 545 Test Cases] (2 pts)')"
   ]
  },
  {
   "cell_type": "markdown",
   "metadata": {
    "deletable": false,
    "editable": false,
    "nbgrader": {
     "checksum": "bd596ec29cee44acd4b6d7966cc43f74",
     "grade": false,
     "grade_id": "html_tags",
     "locked": true,
     "schema_version": 1,
     "solution": false
    }
   },
   "source": [
    "Finally, check if all the HTML tags have been removed. Output the message 'No Tag Found!’, if successful."
   ]
  },
  {
   "cell_type": "code",
   "execution_count": 33,
   "metadata": {
    "deletable": false,
    "nbgrader": {
     "checksum": "2164eb0742d6c27527ea2b19ceb1ee1e",
     "grade": false,
     "grade_id": "remove_html",
     "locked": false,
     "schema_version": 1,
     "solution": true
    }
   },
   "outputs": [
    {
     "name": "stdout",
     "output_type": "stream",
     "text": [
      "No Tag Found!\n"
     ]
    }
   ],
   "source": [
    "# TODO: Check if all tags have been removed\n",
    "# Output 'No Tag Found!' if no tags\n",
    "\n",
    "# YOUR CODE HERE\n",
    "# raise NotImplementedError()\n",
    "import re\n",
    "find_tag = False\n",
    "for x in selected_data:\n",
    "    # detect objects that are not None and have the pattern indicated below\n",
    "    if type(x) == type('x') and re.match(r'<\\w*>\\w*<(/?)\\w*>',x):\n",
    "        find_tag = True\n",
    "        break\n",
    "if(not find_tag):\n",
    "    print('No Tag Found!')"
   ]
  },
  {
   "cell_type": "code",
   "execution_count": 34,
   "metadata": {
    "deletable": false,
    "editable": false,
    "nbgrader": {
     "checksum": "6f3f751a65be47a95a2fcd3d73e08abf",
     "grade": true,
     "grade_id": "test_html1",
     "locked": true,
     "points": 2,
     "schema_version": 1,
     "solution": false
    }
   },
   "outputs": [
    {
     "name": "stdout",
     "output_type": "stream",
     "text": [
      "[CIS 545 Test Cases] (2 pts)\n"
     ]
    }
   ],
   "source": [
    "# [CIS 545 Test Cases] (2 pts)\n",
    "# Checking HTML cleaning\n",
    "\n",
    "\n",
    "print('[CIS 545 Test Cases] (2 pts)')"
   ]
  },
  {
   "cell_type": "code",
   "execution_count": 35,
   "metadata": {
    "deletable": false,
    "editable": false,
    "nbgrader": {
     "checksum": "a540839a63a74cad3fadf1b4818d1a49",
     "grade": false,
     "grade_id": "view_selected",
     "locked": true,
     "schema_version": 1,
     "solution": false
    }
   },
   "outputs": [
    {
     "data": {
      "text/plain": [
       "['1919[edit]',\n",
       " 'July 21 – The Goodyear dirigible Wingfoot Air Express catches fire and crashes into the Illinois Trust and Savings Building in Chicago, Illinois, while carrying passengers to a local amusement park, killing thirteen people: three out of the five on board and ten others on the ground, with 27 others on the ground being injured.',\n",
       " 'August 2 – A Caproni Ca.48 crashes at Verona, Italy, during a flight from Venice to Taliedo, Milan, killing all on board (14, 15, or 17 people, according to different sources).',\n",
       " '1920[edit]',\n",
       " 'December 14 – A Handley Page Transport Handley Page O/400 hits a tree and crashes at Golders Green, London, after failing to gain height following takeoff, killing four out of eight on board.',\n",
       " '1922[edit]',\n",
       " 'April 7 – In the first mid-air collision of airliners, a de Havilland DH.18A, G-EAWO, operated by Daimler Hire Ltd., collides with a Farman F.60 Goliath, F-GEAD, operated by Compagnie des Grands Express Aériens (CGEA), over the Thieulloy-St. Antoine road near Picardie, France, killing all seven people on both aircraft.',\n",
       " '1923[edit]',\n",
       " 'May 14 – An Air Union Farman F.60 Goliath crashes near Monsures, Somme, France, due to the structural failure of a wing, killing all six on board.',\n",
       " 'August 27 – An Air Union Farman F.60 Goliath crashes near East Malling, Kent, England, due to engine failure, and confusion among the passengers, killing one of 13 on board.',\n",
       " 'September 14 – A Daimler Airway de Havilland DH.34 crashes at Ivinghoe, Buckinghamshire, England, after stalling while attempting an emergency landing, killing all five on board.',\n",
       " '1924[edit]',\n",
       " 'December 24 – An Imperial Airways de Havilland DH.34 crashes near Purley, Surrey, England, due to a stall during an attempted emergency landing in response to an unknown mechanical defect, killing all eight on board.',\n",
       " '1926[edit]',\n",
       " 'August 18 – An Air Union Blériot 155 crashes while attempting an emergency landing at College Farm, Hurst, Aldington, England, due to engine failure, killing three of 15 on board; the pilot initially survives, but dies a day later.']"
      ]
     },
     "execution_count": 35,
     "metadata": {},
     "output_type": "execute_result"
    }
   ],
   "source": [
    "# View a slice of selected_data\n",
    "selected_data[:15]"
   ]
  },
  {
   "cell_type": "markdown",
   "metadata": {
    "deletable": false,
    "editable": false,
    "nbgrader": {
     "checksum": "b189c547bac334de57bd7b8400351b72",
     "grade": false,
     "grade_id": "overview_incidents",
     "locked": true,
     "schema_version": 1,
     "solution": false
    }
   },
   "source": [
    "Now we'd like you to save the results to a file called `incidents_raw.txt`.  You can use the file commands: `open`, `write`, and `close`.  Be sure to write a newline (`\\n`) after each line, so that later you can read the lines back."
   ]
  },
  {
   "cell_type": "code",
   "execution_count": 36,
   "metadata": {
    "deletable": false,
    "nbgrader": {
     "checksum": "c335ea7ba560d0b4363eac11be9c5edf",
     "grade": false,
     "grade_id": "incidents_raw",
     "locked": false,
     "schema_version": 1,
     "solution": true
    }
   },
   "outputs": [],
   "source": [
    "# TODO: Write selected_data to incidents_raw.txt\n",
    "\n",
    "# YOUR CODE HERE\n",
    "# raise NotImplementedError()\n",
    "with open('incidents_raw.txt','w') as f:\n",
    "    for x in selected_data:\n",
    "        f.write(str(x))\n",
    "        f.write('\\n')\n"
   ]
  },
  {
   "cell_type": "code",
   "execution_count": 37,
   "metadata": {
    "deletable": false,
    "editable": false,
    "nbgrader": {
     "checksum": "6f7186860ce12010bffca90c81f214ef",
     "grade": true,
     "grade_id": "test_incidents",
     "locked": true,
     "points": 5,
     "schema_version": 1,
     "solution": false
    }
   },
   "outputs": [
    {
     "name": "stdout",
     "output_type": "stream",
     "text": [
      "[CIS 545 Test Cases] (5 pts)\n"
     ]
    }
   ],
   "source": [
    "# [CIS 545 Test Cases] (5 pts)\n",
    "# Checking incidents_raw processing - this is worth a lot!\n",
    "\n",
    "\n",
    "print('[CIS 545 Test Cases] (5 pts)')"
   ]
  },
  {
   "cell_type": "markdown",
   "metadata": {
    "deletable": false,
    "editable": false,
    "nbgrader": {
     "checksum": "52046ec767cda22ad3ea2f92601acddc",
     "grade": false,
     "grade_id": "step2",
     "locked": true,
     "schema_version": 1,
     "solution": false
    }
   },
   "source": [
    "## Step 2: Simple Data Cleaning\n",
    "\n",
    "Now we need to do some further cleaning to both the CSV and text data.\n",
    "\n",
    "(use Insert|Insert Cell Above or Insert Cell Below as needed to add further cells)"
   ]
  },
  {
   "cell_type": "markdown",
   "metadata": {
    "deletable": false,
    "editable": false,
    "nbgrader": {
     "checksum": "a95b66c5f1ee6f2749dde46b8a2b7dba",
     "grade": false,
     "grade_id": "step2-1",
     "locked": true,
     "schema_version": 1,
     "solution": false
    }
   },
   "source": [
    "## 2.1 Cleaning Tabular Data\n",
    "We are going to clean the `airlines_df`, `airports_df`, and `routes_df` DataFrames.  First, run a \"helper\" function we've defined for you."
   ]
  },
  {
   "cell_type": "code",
   "execution_count": 38,
   "metadata": {
    "deletable": false,
    "editable": false,
    "nbgrader": {
     "checksum": "8ed98ace6273fd666ebcd8e4efe8f6dd",
     "grade": false,
     "grade_id": "run_helper",
     "locked": true,
     "schema_version": 1,
     "solution": false
    }
   },
   "outputs": [],
   "source": [
    "# Replace NaNs with blanks if the column is a string\n",
    "# Everything should be of a consistent type\n",
    "def fillna_col(series):\n",
    "    if series.dtype is pd.np.dtype(object):\n",
    "        return series.fillna('')\n",
    "    else:\n",
    "        return series"
   ]
  },
  {
   "cell_type": "markdown",
   "metadata": {
    "deletable": false,
    "editable": false,
    "nbgrader": {
     "checksum": "9e9264c6c278958d1db149df2dcad36b",
     "grade": false,
     "grade_id": "overview_nullify",
     "locked": true,
     "schema_version": 1,
     "solution": false
    }
   },
   "source": [
    "Additionally, define a second function called `nullify` that takes a single parameter `x`. Given the parameter value `\\N` it returns `NaN`, otherwise it returns the value of the parameter."
   ]
  },
  {
   "cell_type": "code",
   "execution_count": 39,
   "metadata": {
    "deletable": false,
    "nbgrader": {
     "checksum": "3593d266e8e9e4622cb5e4915caa582b",
     "grade": false,
     "grade_id": "nullify",
     "locked": false,
     "schema_version": 1,
     "solution": true
    }
   },
   "outputs": [],
   "source": [
    "# TODO: Define nullify here\n",
    "\n",
    "# YOUR CODE HERE\n",
    "# raise NotImplementedError()\n",
    "def nullify(x):\n",
    "    if x == '\\\\N':\n",
    "        return pd.np.NaN\n",
    "    else:\n",
    "        return x"
   ]
  },
  {
   "cell_type": "code",
   "execution_count": 40,
   "metadata": {
    "deletable": false,
    "editable": false,
    "nbgrader": {
     "checksum": "0620848e16c060947480f70e31b736cd",
     "grade": true,
     "grade_id": "test_nullify1",
     "locked": true,
     "points": 2,
     "schema_version": 1,
     "solution": false
    }
   },
   "outputs": [
    {
     "name": "stdout",
     "output_type": "stream",
     "text": [
      "[CIS 545 Test Cases] (2 pts)\n"
     ]
    }
   ],
   "source": [
    "# [CIS 545 Test Cases] (2 pts)\n",
    "# Checking nullify\n",
    "\n",
    "# Test that nullify on 'abc' just returns the value\n",
    "if (nullify('abc') != 'abc'):\n",
    "    raise ValueError(\"Nullify doesn't seem to work!\\n\")\n",
    "\n",
    "# Ditto for an integer\n",
    "if (nullify(3) != 3):\n",
    "    raise ValueError(\"Nullify doesn't seem to work!\\n\")\n",
    "    \n",
    "print('[CIS 545 Test Cases] (2 pts)')"
   ]
  },
  {
   "cell_type": "code",
   "execution_count": 41,
   "metadata": {
    "deletable": false,
    "editable": false,
    "nbgrader": {
     "checksum": "a0d8e01fb53d6127670ae814933be98e",
     "grade": true,
     "grade_id": "test_nullify2",
     "locked": true,
     "points": 3,
     "schema_version": 1,
     "solution": false
    }
   },
   "outputs": [
    {
     "name": "stdout",
     "output_type": "stream",
     "text": [
      "[CIS 545 Test Cases] (3 pts)\n"
     ]
    }
   ],
   "source": [
    "# [CIS 545 Test Cases] (3 pts)\n",
    "# Checking nullify\n",
    "\n",
    "\n",
    "print('[CIS 545 Test Cases] (3 pts)')"
   ]
  },
  {
   "cell_type": "markdown",
   "metadata": {
    "deletable": false,
    "editable": false,
    "nbgrader": {
     "checksum": "22d67c90409253d575610511b39951c1",
     "grade": false,
     "grade_id": "step2-1-1",
     "locked": true,
     "schema_version": 1,
     "solution": false
    }
   },
   "source": [
    "### 2.1.1 Regularizing and removing nulls\n",
    "\n",
    "Next, we’ll need to use two functions to apply `nullify` and `fillna_col` to our DataFrames.  \n",
    "\n",
    "The DataFrame applymap function can be used to apply a function to every cell of a DataFrame.  We can use this to apply nullify to all of the elements in each of our DataFrames (airports, airlines, etc.) and get rid of all of the “\\N”s.\n",
    "\n",
    "The DataFrame `apply` function can be used to apply a function to every column of a DataFrame.  Let’s use that to call `fillna_col `on the DataFrames -- replacing the NaNs with blank strings if the column is otherwise an object.\n",
    "\n",
    "Also, let’s get rid of rows in `routes_df` that have null airline, source, or destination IDs.  Recall that `dropna` can be used here.\n",
    "\n",
    "You’ll want to update your DataFrames using all of the above functions.  Think carefully about the order in which to apply these."
   ]
  },
  {
   "cell_type": "code",
   "execution_count": 42,
   "metadata": {
    "deletable": false,
    "nbgrader": {
     "checksum": "a4d1c047594c0dcac6eae0ae526d8a50",
     "grade": false,
     "grade_id": "regularize",
     "locked": false,
     "schema_version": 1,
     "solution": true
    }
   },
   "outputs": [],
   "source": [
    "# TODO: regularize and remove nulls according to Step 2\n",
    "\n",
    "# YOUR CODE HERE\n",
    "# raise NotImplementedError()\n",
    "\n",
    "# print(len(airports_df))\n",
    "airports_df = airports_df.applymap(nullify)\n",
    "airports_df = airports_df.apply(fillna_col)\n",
    "# print(len(airports_df))\n",
    "\n",
    "# print(len(airlines_df))\n",
    "airlines_df = airlines_df.applymap(nullify)\n",
    "airlines_df = airlines_df.apply(fillna_col)\n",
    "# print(len(airlines_df))\n",
    "\n",
    "# print(len(routes_df))\n",
    "routes_df = routes_df.applymap(nullify)\n",
    "routes_df = routes_df.dropna(how='any',subset=['airline_id','source_id','target_id'])\n",
    "routes_df = routes_df.apply(fillna_col)\n",
    "# print(len(routes_df))\n",
    "\n",
    "# print(len(flights_df))\n",
    "flights_df = flights_df.applymap(nullify)\n",
    "flights_df = flights_df.apply(fillna_col)\n",
    "# print(len(flights_df))"
   ]
  },
  {
   "cell_type": "code",
   "execution_count": 43,
   "metadata": {
    "deletable": false,
    "editable": false,
    "nbgrader": {
     "checksum": "8bb1f3fc6f610c8ec8c10072f0d99d6f",
     "grade": true,
     "grade_id": "test_nullify3",
     "locked": true,
     "points": 1,
     "schema_version": 1,
     "solution": false
    }
   },
   "outputs": [
    {
     "name": "stdout",
     "output_type": "stream",
     "text": [
      "[CIS 545 Test Cases] (1 pt)\n"
     ]
    }
   ],
   "source": [
    "# [CIS 545 Test Cases] (1 pt)\n",
    "# Basic checks of your dataframes\n",
    "\n",
    "if airports_df.isnull().sum().sum() != 0:\n",
    "    raise ValueError('airports_df still has NaNs')\n",
    "    \n",
    "if airlines_df.isnull().sum().sum() != 0:\n",
    "    raise ValueError('airlines_df still has Nans')\n",
    "    \n",
    "if routes_df.isnull().sum().sum() != 0:\n",
    "    raise ValueError('routes_df still has Nans')\n",
    "    \n",
    "print('[CIS 545 Test Cases] (1 pt)')"
   ]
  },
  {
   "cell_type": "code",
   "execution_count": 44,
   "metadata": {
    "deletable": false,
    "editable": false,
    "nbgrader": {
     "checksum": "da81bc2428188da7e0d76e01dba66127",
     "grade": true,
     "grade_id": "test_nullify4",
     "locked": true,
     "points": 2,
     "schema_version": 1,
     "solution": false
    }
   },
   "outputs": [
    {
     "name": "stdout",
     "output_type": "stream",
     "text": [
      "[CIS 545 Test Cases] (2 pts)\n"
     ]
    }
   ],
   "source": [
    "## [CIS 545 Test Cases] (2 pts)\n",
    "# Checking your data cleaning\n",
    "\n",
    "\n",
    "print('[CIS 545 Test Cases] (2 pts)')"
   ]
  },
  {
   "cell_type": "code",
   "execution_count": 45,
   "metadata": {
    "deletable": false,
    "editable": false,
    "nbgrader": {
     "checksum": "54fb1817934fb37c4b8ca630716fcc1e",
     "grade": true,
     "grade_id": "test_nullify5",
     "locked": true,
     "points": 2,
     "schema_version": 1,
     "solution": false
    }
   },
   "outputs": [
    {
     "name": "stdout",
     "output_type": "stream",
     "text": [
      "[CIS 545 Test Cases] (2 pts)\n"
     ]
    }
   ],
   "source": [
    "# [CIS 545 Test Cases] (2 pts)\n",
    "# Checking your data cleaning\n",
    "\n",
    "\n",
    "print('[CIS 545 Test Cases] (2 pts)')"
   ]
  },
  {
   "cell_type": "markdown",
   "metadata": {
    "deletable": false,
    "editable": false,
    "nbgrader": {
     "checksum": "4a6399e99c8523046c41fe6bb3da935b",
     "grade": false,
     "grade_id": "step2-1-2",
     "locked": true,
     "schema_version": 1,
     "solution": false
    }
   },
   "source": [
    "### 2.1.2 Changing column types\n",
    "\n",
    "After all of this, `routes_df.airline_id` will only have integers, but will still have its existing type of object.  Later we’ll need it to be an integer, so that it can be compared directly with the entries from `airlines_df` and `airports_df`.  Let’s convert it to integer via:\n",
    "\n",
    "```\n",
    "routes_df['airline_id'] = routes_df['airline_id'].astype(int)\n",
    "```\n",
    "\n",
    "Repeat the same process for the source and destination airport IDs.  \n"
   ]
  },
  {
   "cell_type": "code",
   "execution_count": 46,
   "metadata": {
    "deletable": false,
    "nbgrader": {
     "checksum": "bd93933e664262172f80dac03c24b6c1",
     "grade": false,
     "grade_id": "change_cols",
     "locked": false,
     "schema_version": 1,
     "solution": true
    }
   },
   "outputs": [],
   "source": [
    "# TODO: Change column types according to Step 2\n",
    "\n",
    "# YOUR CODE HERE\n",
    "# raise NotImplementedError()\n",
    "\n",
    "routes_df['airline_id'] = routes_df['airline_id'].astype(int)\n",
    "routes_df['source_id'] = routes_df['source_id'].astype(int)\n",
    "routes_df['target_id'] = routes_df['target_id'].astype(int)"
   ]
  },
  {
   "cell_type": "code",
   "execution_count": 47,
   "metadata": {
    "deletable": false,
    "editable": false,
    "nbgrader": {
     "checksum": "179415cd4fd10aa98dd89b6a7db6b2df",
     "grade": true,
     "grade_id": "test_cols1",
     "locked": true,
     "points": 2,
     "schema_version": 1,
     "solution": false
    }
   },
   "outputs": [
    {
     "name": "stdout",
     "output_type": "stream",
     "text": [
      "[CIS 545 Test Cases] (2 pts)\n"
     ]
    }
   ],
   "source": [
    "# [CIS 545 Test Cases] (2 pts)\n",
    "\n",
    "\n",
    "print('[CIS 545 Test Cases] (2 pts)')"
   ]
  },
  {
   "cell_type": "markdown",
   "metadata": {
    "deletable": false,
    "editable": false,
    "nbgrader": {
     "checksum": "76306d926c2af506c18cbcd8ec1795f2",
     "grade": false,
     "grade_id": "step2-2",
     "locked": true,
     "schema_version": 1,
     "solution": false
    }
   },
   "source": [
    "## 2.2 Cleaning the Text Data\n",
    "\n",
    "We will clean the raw text data we stored in `incidents_raw.txt`. For each incident, we want it in the form:\n",
    "\n",
    "```\n",
    "1997 January 9 , Comair Flight 3272, an Embraer EMB 120 Brasília, crashes near Ida, Michigan, during a snowstorm, killing all 29 on board.\n",
    "```\n",
    "\n",
    "Points to follow during cleaning:\n",
    "\n",
    "* Remove `[edit]` from the year\n",
    "\n",
    "* Only select incidents that have occured in the year >= 1997\n",
    "\n",
    "* Since we extracted the data using tags `<h3>` and `<li>`, it is possible that there was other data extracted too. See the end of file `incidents_raw.txt`. However, if we look at the format of all the incidents, we can see that they all contain: *month*, the word `Flight` and the symbol `–`. Use these conditions to filter out unwanted data.\n",
    "\n",
    "* Store all the cleaned incidents in a list named `clean_incidents`."
   ]
  },
  {
   "cell_type": "code",
   "execution_count": 48,
   "metadata": {
    "deletable": false,
    "nbgrader": {
     "checksum": "264343d952820b2697340f7e0d237e10",
     "grade": false,
     "grade_id": "clean_incidents",
     "locked": false,
     "schema_version": 1,
     "solution": true
    }
   },
   "outputs": [],
   "source": [
    "# TODO: Read and clean raw text file and store in clean_incidents\n",
    "\n",
    "# YOUR CODE HERE\n",
    "# raise NotImplementedError()\n",
    "\n",
    "import re\n",
    "# the list to store all the cleaned incidents\n",
    "clean_incidents = []\n",
    "# begin cleaning\n",
    "with open('incidents_raw.txt','r') as fin:\n",
    "    cur_year = '0'\n",
    "    for line in fin:\n",
    "        line = line.strip()\n",
    "        if line != '':\n",
    "            new_year = re.match(r'(\\d*)(\\[edit\\])',line)\n",
    "            if new_year is not None:\n",
    "                cur_year = new_year.group(1)\n",
    "            else:\n",
    "                incident = re.match(r'(January|February|March|April|May|June|July|August|September|October|November|December) (\\d*) – (.*) Flight (.*)',line)\n",
    "                if int(cur_year) >= 1997 and incident is not None :\n",
    "                    clean_incidents.append( str(cur_year) + ' ' \n",
    "                                           + incident.group(1).strip() + ' ' \n",
    "                                           + incident.group(2).strip() + ' , '\n",
    "                                           + incident.group(3).strip() + ' Flight ' \n",
    "                                           + incident.group(4).strip() )\n"
   ]
  },
  {
   "cell_type": "code",
   "execution_count": 49,
   "metadata": {
    "deletable": false,
    "editable": false,
    "nbgrader": {
     "checksum": "6403fb5aa311ecd11a19a10508a81cfd",
     "grade": true,
     "grade_id": "test_incidents1",
     "locked": true,
     "points": 2,
     "schema_version": 1,
     "solution": false
    }
   },
   "outputs": [
    {
     "name": "stdout",
     "output_type": "stream",
     "text": [
      "[CIS 545 Test Cases] (2 pts)\n"
     ]
    }
   ],
   "source": [
    "# [CIS 545 Test Cases] (2 pts)\n",
    "# Very basic testing of your dataframe...\n",
    "\n",
    "if len(clean_incidents) < 330 or len(clean_incidents) > 335: #331 expected\n",
    "    raise ValueError(\"Don't have the expected number of entries\")\n",
    "\n",
    "if not clean_incidents[0].startswith('1997'):\n",
    "    raise ValueError(\"Don't have the expected start date\")\n",
    "    \n",
    "print('[CIS 545 Test Cases] (2 pts)')"
   ]
  },
  {
   "cell_type": "code",
   "execution_count": 50,
   "metadata": {
    "deletable": false,
    "editable": false,
    "nbgrader": {
     "checksum": "a13d58288c29d6139cbe8f5a8a492f3b",
     "grade": true,
     "grade_id": "test_incidents2",
     "locked": true,
     "points": 2,
     "schema_version": 1,
     "solution": false
    }
   },
   "outputs": [
    {
     "name": "stdout",
     "output_type": "stream",
     "text": [
      "[CIS 545 Test Cases] (2 pts)\n"
     ]
    }
   ],
   "source": [
    "# [CIS 545 Test Cases] (2 pts)\n",
    "# Checking the values in clean_incidents\n",
    "\n",
    "\n",
    "print('[CIS 545 Test Cases] (2 pts)')"
   ]
  },
  {
   "cell_type": "code",
   "execution_count": 51,
   "metadata": {
    "deletable": false,
    "editable": false,
    "nbgrader": {
     "checksum": "4b8ab2b22fb510fc2b0c731a34d7ae68",
     "grade": true,
     "grade_id": "test_incidents3",
     "locked": true,
     "points": 2,
     "schema_version": 1,
     "solution": false
    }
   },
   "outputs": [
    {
     "name": "stdout",
     "output_type": "stream",
     "text": [
      "[CIS 545 Test Cases] (2 pts)\n"
     ]
    }
   ],
   "source": [
    "# [CIS 545 Test Cases] (2 pts)\n",
    "# Checking the values in clean_incidents\n",
    "\n",
    "\n",
    "print('[CIS 545 Test Cases] (2 pts)')"
   ]
  },
  {
   "cell_type": "code",
   "execution_count": 52,
   "metadata": {
    "deletable": false,
    "editable": false,
    "nbgrader": {
     "checksum": "f61bd4b11f71c66c942ddb0c2578e80c",
     "grade": true,
     "grade_id": "test_incidents4",
     "locked": true,
     "points": 2,
     "schema_version": 1,
     "solution": false
    }
   },
   "outputs": [
    {
     "name": "stdout",
     "output_type": "stream",
     "text": [
      "[CIS 545 Test Cases] (2 pts)\n"
     ]
    }
   ],
   "source": [
    "# [CIS 545 Test Cases] (2 pts)\n",
    "# Checking the values in clean_incidents\n",
    "\n",
    "\n",
    "print('[CIS 545 Test Cases] (2 pts)')"
   ]
  },
  {
   "cell_type": "markdown",
   "metadata": {
    "deletable": false,
    "editable": false,
    "nbgrader": {
     "checksum": "b7609b55b932edc6e1971c97b1b03b91",
     "grade": false,
     "grade_id": "convert_overview",
     "locked": true,
     "schema_version": 1,
     "solution": false
    }
   },
   "source": [
    "Now that we have all the aircraft incidents since 1997, we need to convert them into a Pandas DataFrame. Use the empty dataframe `incidents_df`.  For each entry in clean_incidents, extract the date, airline name and flight number (only the part that comes after `Flight`, and you should remove what are called \"stop words\" like a, an, the) then store it as a new row in `incidents_df`. Set the column type of `incidents_df['Date']` to `datetime`. Drop any duplicates from `incidents_df`."
   ]
  },
  {
   "cell_type": "code",
   "execution_count": 53,
   "metadata": {
    "deletable": false,
    "nbgrader": {
     "checksum": "fd85cb6a90a99648c0abd265b17e6b7b",
     "grade": false,
     "grade_id": "convert_incidents",
     "locked": false,
     "schema_version": 1,
     "solution": true
    }
   },
   "outputs": [
    {
     "name": "stdout",
     "output_type": "stream",
     "text": [
      "                               Airline               Date FlightNum\n",
      "0                               Comair     1997 January 9      3272\n",
      "1    Stavropolskaya Aktsionernaya Avia      1997 March 18      1023\n",
      "2           Merpati Nusantara Airlines      1997 April 19       106\n",
      "3              China Southern Airlines         1997 May 8      3456\n",
      "4                        FedEx Express       1997 July 31        14\n",
      "5                          Sempati Air       1997 July 17       304\n",
      "6                           Korean Air      1997 August 6       801\n",
      "7                     Formosa Airlines     1997 August 10      7601\n",
      "8                     Vietnam Airlines   1997 September 3       815\n",
      "9                Royal Brunei Airlines   1997 September 6       238\n",
      "10                    Garuda Indonesia  1997 September 26       152\n",
      "11               Austral Líneas Aéreas    1997 October 10      2553\n",
      "12                 Tajikistan Airlines   1997 December 15      3183\n",
      "13                            Aerosvit   1997 December 17       241\n",
      "14                             SilkAir   1997 December 19       185\n",
      "15                     United Airlines   1997 December 28       826\n",
      "16                        Cebu Pacific    1998 February 2       387\n",
      "17                      China Airlines   1998 February 16       676\n",
      "18                 Philippine Airlines      1998 March 22       137\n",
      "19                          Air France      1998 April 20       422\n",
      "20                                 PIA        1998 May 25       544\n",
      "21                             Propair       1998 June 18       420\n",
      "22                    Proteus Airlines       1998 July 30       706\n",
      "23                      Myanma Airways     1998 August 24       635\n",
      "24                  Cubana de Aviación     1998 August 29       389\n",
      "25                            Swissair   1998 September 2       111\n",
      "26                            PauknAir  1998 September 25      4101\n",
      "27                             Lionair  1998 September 29       602\n",
      "28          Thai Airways International   1998 December 11       261\n",
      "29            China Southwest Airlines   1999 February 24      4509\n",
      "..                                 ...                ...       ...\n",
      "301    Ceiba Intercontinental Airlines   2015 September 5        71\n",
      "302                    British Airways   2015 September 8      2276\n",
      "303                           Aviastar     2015 October 2      7503\n",
      "304                    Dynamic Airways    2015 October 29       405\n",
      "305                           Metrojet    2015 October 31      9268\n",
      "306                    West Air Sweden     2016 January 8       294\n",
      "307                    Daallo Airlines    2016 February 2       159\n",
      "308                           Tara Air   2016 February 24       193\n",
      "309                           Flydubai      2016 March 19       981\n",
      "310                           EgyptAir      2016 March 29       181\n",
      "311                          Batik Air       2016 April 4      7703\n",
      "312                           EgyptAir        2016 May 19       804\n",
      "313                         Korean Air        2016 May 27      2708\n",
      "314                 Singapore Airlines       2016 June 27       368\n",
      "315                           Emirates      2016 August 3       521\n",
      "316               ASL Airlines Hungary      2016 August 5      7332\n",
      "317                 Southwest Airlines     2016 August 27      3472\n",
      "318                  American Airlines    2016 October 28       383\n",
      "319                      FedEx Express    2016 October 28       910\n",
      "320                     LaMia Airlines   2016 November 28      2933\n",
      "321    Pakistan International Airlines    2016 December 7       661\n",
      "322                          Aerosucre   2016 December 20      4544\n",
      "323                  Afriqiyah Airways   2016 December 23       209\n",
      "324                   Turkish Airlines    2017 January 16      6491\n",
      "325                  Peruvian Airlines      2017 March 28       112\n",
      "326                         Summit Air        2017 May 27       409\n",
      "327                         Air Canada        2017 July 7       759\n",
      "328                         Air France  2017 September 30        66\n",
      "329                 West Wind Aviation   2017 December 13       280\n",
      "330                   Pegasus Airlines    2018 January 13      8622\n",
      "\n",
      "[331 rows x 3 columns]\n"
     ]
    }
   ],
   "source": [
    "# TODO: Convert clean_incidents into dataframe incidents_df\n",
    "\n",
    "# You might find the Natural Language Toolkit (nltk) useful.\n",
    "# See https://www.nltk.org/ for details.\n",
    "#\n",
    "# The stopwords module will let you find and remove not-very-useful\n",
    "# words like articles ('the', 'a'). (We imported it earlier in the assignment)\n",
    "\n",
    "# YOUR CODE HERE\n",
    "# raise NotImplementedError()\n",
    "\n",
    "import re\n",
    "'''\n",
    "import nltk\n",
    "nltk.download('stopwords')\n",
    "from nltk.corpus import stopwords\n",
    "stop_words = set(stopwords.words('english'))\n",
    "print(stop_words)\n",
    "'''\n",
    "def process_airline_name(line):\n",
    "    # return line   \n",
    "    # re.match(r'^([^,:]*)[,:](.*)', line) # find the string after the first , or :\n",
    "    # re.match(r'(.*)(hijack|board|and|with|a|an|the)(.*)', line)\n",
    "    \n",
    "    # modify line if it has multiple 'Flight's\n",
    "    if line.find('Flight') >= 0:\n",
    "        line = line[:line.find('Flight')].strip()\n",
    "    # modify line if it has multiple sub-sentences\n",
    "    o1 = re.match(r'(.*)[,:.](.*)', line)\n",
    "    if o1 is not None:\n",
    "        line = o1.group(2)\n",
    "    # get final result\n",
    "    o2 = re.match(r'(.*)( hijack | board | and | with | a | an | the )(.*)', line)\n",
    "    if o2 is not None:\n",
    "        # has stop words\n",
    "        return o2.group(3)\n",
    "    else:\n",
    "        # input is the airline name\n",
    "        return line\n",
    "    \n",
    "# init lists for dictionary\n",
    "airlines = []\n",
    "dates = []\n",
    "flightnums = []\n",
    "\n",
    "# append data to the lists\n",
    "for x in clean_incidents:\n",
    "    obj = re.match(r'(.*) , (.*) Flight (\\w*)(.*)',x)\n",
    "    if obj is not None:\n",
    "        airlines.append( process_airline_name(obj.group(2)).strip() )\n",
    "        dates.append( obj.group(1).strip() )\n",
    "        flightnums.append( obj.group(3).strip() )\n",
    "\n",
    "# create the dataframe\n",
    "incidents_df = pd.DataFrame({'Airline': airlines, 'Date': dates,'FlightNum':flightnums})\n",
    "\n",
    "#print(incidents_df)"
   ]
  },
  {
   "cell_type": "code",
   "execution_count": 54,
   "metadata": {
    "deletable": false,
    "editable": false,
    "nbgrader": {
     "checksum": "1a18f8476c8a4f84903eae25fb6e0c75",
     "grade": true,
     "grade_id": "test_incidents5",
     "locked": true,
     "points": 3,
     "schema_version": 1,
     "solution": false
    }
   },
   "outputs": [
    {
     "name": "stdout",
     "output_type": "stream",
     "text": [
      "[CIS 545 Test Cases] (3 pts)\n"
     ]
    }
   ],
   "source": [
    "# [CIS 545 Test Cases] (3 pts)\n",
    "# Checking your dataframe size and shape\n",
    "\n",
    "if len(incidents_df) < 330 or len(incidents_df) > 335: \n",
    "    raise ValueError(\"Don't have the expected number of entries\")\n",
    "\n",
    "if incidents_df.shape[1] != 3:\n",
    "    raise ValueError(\"Don't have the expected number of fields\")\n",
    "\n",
    "if not ((incidents_df['Airline'] == 'Cebu Pacific') & \\\n",
    "        (incidents_df['Date'] == '1998 February 2') & \\\n",
    "        (incidents_df['FlightNum'] == '387')).any():\n",
    "    raise ValueError('You might need to clean your data a bit better')\n",
    "    \n",
    "print('[CIS 545 Test Cases] (3 pts)')"
   ]
  },
  {
   "cell_type": "code",
   "execution_count": 55,
   "metadata": {
    "deletable": false,
    "editable": false,
    "nbgrader": {
     "checksum": "294cc185b98e4471bc9d8799e03bc54d",
     "grade": true,
     "grade_id": "test_incidents6",
     "locked": true,
     "points": 2,
     "schema_version": 1,
     "solution": false
    }
   },
   "outputs": [
    {
     "name": "stdout",
     "output_type": "stream",
     "text": [
      "[CIS 545 Test Cases] (2 pts)\n"
     ]
    }
   ],
   "source": [
    "# [CIS 545 Test Cases] (2 pts)\n",
    "# We're going to be testing your data cleaning more thoroughly here\n",
    "\n",
    "\n",
    "print('[CIS 545 Test Cases] (2 pts)')"
   ]
  },
  {
   "cell_type": "code",
   "execution_count": 56,
   "metadata": {
    "deletable": false,
    "editable": false,
    "nbgrader": {
     "checksum": "2c24edc486bf67c154e2763f49c676e6",
     "grade": true,
     "grade_id": "test_incidents7",
     "locked": true,
     "points": 2,
     "schema_version": 1,
     "solution": false
    }
   },
   "outputs": [
    {
     "name": "stdout",
     "output_type": "stream",
     "text": [
      "[CIS 545 Test Cases] (2 pts)\n"
     ]
    }
   ],
   "source": [
    "# [CIS 545 Test Cases] (2 pts)\n",
    "# We're going to be testing your data cleaning more thoroughly here\n",
    "\n",
    "\n",
    "print('[CIS 545 Test Cases] (2 pts)')"
   ]
  },
  {
   "cell_type": "markdown",
   "metadata": {
    "deletable": false,
    "editable": false,
    "nbgrader": {
     "checksum": "40860929554c3f871a43e8a1fa515328",
     "grade": false,
     "grade_id": "change_date_drops",
     "locked": true,
     "schema_version": 1,
     "solution": false
    }
   },
   "source": [
    "Now, we want to change the column type and clean data a bit further"
   ]
  },
  {
   "cell_type": "code",
   "execution_count": 57,
   "metadata": {
    "deletable": false,
    "nbgrader": {
     "checksum": "bafa402b0a69b2527bdc4f6b8ac76633",
     "grade": false,
     "grade_id": "change_date",
     "locked": false,
     "schema_version": 1,
     "solution": true
    }
   },
   "outputs": [
    {
     "name": "stdout",
     "output_type": "stream",
     "text": [
      "331\n",
      "                               Airline        Date FlightNum\n",
      "0                               Comair  1997-01-09      3272\n",
      "1    Stavropolskaya Aktsionernaya Avia  1997-03-18      1023\n",
      "2           Merpati Nusantara Airlines  1997-04-19       106\n",
      "3              China Southern Airlines  1997-05-08      3456\n",
      "4                        FedEx Express  1997-07-31        14\n",
      "5                          Sempati Air  1997-07-17       304\n",
      "6                           Korean Air  1997-08-06       801\n",
      "7                     Formosa Airlines  1997-08-10      7601\n",
      "8                     Vietnam Airlines  1997-09-03       815\n",
      "9                Royal Brunei Airlines  1997-09-06       238\n",
      "10                    Garuda Indonesia  1997-09-26       152\n",
      "11               Austral Líneas Aéreas  1997-10-10      2553\n",
      "12                 Tajikistan Airlines  1997-12-15      3183\n",
      "13                            Aerosvit  1997-12-17       241\n",
      "14                             SilkAir  1997-12-19       185\n",
      "15                     United Airlines  1997-12-28       826\n",
      "16                        Cebu Pacific  1998-02-02       387\n",
      "17                      China Airlines  1998-02-16       676\n",
      "18                 Philippine Airlines  1998-03-22       137\n",
      "19                          Air France  1998-04-20       422\n",
      "20                                 PIA  1998-05-25       544\n",
      "21                             Propair  1998-06-18       420\n",
      "22                    Proteus Airlines  1998-07-30       706\n",
      "23                      Myanma Airways  1998-08-24       635\n",
      "24                  Cubana de Aviación  1998-08-29       389\n",
      "25                            Swissair  1998-09-02       111\n",
      "26                            PauknAir  1998-09-25      4101\n",
      "27                             Lionair  1998-09-29       602\n",
      "28          Thai Airways International  1998-12-11       261\n",
      "29            China Southwest Airlines  1999-02-24      4509\n",
      "30                    Turkish Airlines  1999-04-07      5904\n",
      "31                    Korean Air Cargo  1999-04-15      6316\n",
      "32                   American Airlines  1999-06-01      1420\n",
      "33                            Air Fiji  1999-07-24       121\n",
      "34                  All Nippon Airways  1999-07-24        61\n",
      "35                                TACV  1999-08-07      5002\n",
      "36                      China Airlines  1999-08-22       642\n",
      "37                                LAPA  1999-08-31      3142\n",
      "38                           Necon Air  1999-09-05       128\n",
      "39                   Britannia Airways  1999-09-14      226A\n",
      "40                              Qantas  1999-09-23         1\n",
      "41                            EgyptAir  1999-10-31       990\n",
      "42                               TAESA  1999-11-09       725\n",
      "43                              Si Fly  1999-11-12      3275\n",
      "44                        Asian Spirit  1999-12-07       100\n",
      "45                     SATA Air Açores  1999-12-11      530M\n",
      "46                  Cubana de Aviación  1999-12-21      1216\n",
      "47                    Korean Air Cargo  1999-12-22      8509\n",
      "48                     Indian Airlines  1999-12-24       814\n",
      "49                  Cubana de Aviación  1999-12-25       310\n",
      "50                            Crossair  2000-01-10       498\n",
      "51                       Kenya Airways  2000-01-30       431\n",
      "52                     Alaska Airlines  2000-01-31       261\n",
      "53                     Emery Worldwide  2000-02-16        17\n",
      "54                  Southwest Airlines  2000-03-05      1455\n",
      "55                     Air Philippines  2000-04-19       541\n",
      "56                      Wuhan Airlines  2000-06-22       343\n",
      "57                               Malév  2000-07-04       262\n",
      "58                          Aerocaribe  2000-07-08      7831\n",
      "59                         Hapag-Lloyd  2000-07-12      3378\n",
      "60                        Alliance Air  2000-07-17      7412\n",
      "61                          Air France  2000-07-25      4590\n",
      "62                            Gulf Air  2000-08-23       072\n",
      "63                  Singapore Airlines  2000-10-31       006\n",
      "64              Dirgantara Air Service  2000-11-18      3130\n",
      "65                     British Airways  2000-12-20      2069\n",
      "66                             Yemenia  2001-01-23       448\n",
      "67                     RUTACA Airlines  2001-01-25       225\n",
      "68                      Japan Airlines  2001-01-31       958\n",
      "69                            Loganair  2001-02-27      670A\n",
      "70          Thai Airways International  2001-03-03       114\n",
      "71                        Air Caraïbes  2001-03-24      1501\n",
      "72                     Vladivostok Air  2001-07-04       352\n",
      "73                         Air Transat  2001-08-24       236\n",
      "74                 Binter Mediterráneo  2001-08-29      8261\n",
      "75                   American Airlines  2001-09-11        11\n",
      "76                     United Airlines  2001-09-11       175\n",
      "77                   American Airlines  2001-09-11        77\n",
      "78                     United Airlines  2001-09-11        93\n",
      "83                    Siberia Airlines  2001-10-04      1812\n",
      "84               Scandinavian Airlines  2001-10-08       686\n",
      "85                   American Airlines  2001-11-12       587\n",
      "86                            Crossair  2001-11-24      3597\n",
      "87                   American Airlines  2001-12-22        63\n",
      "88                            Lion Air  2002-01-14       386\n",
      "89                    Garuda Indonesia  2002-01-16       421\n",
      "90                                TAME  2002-01-28       120\n",
      "91                      Iran Air Tours  2002-02-12       956\n",
      "92                           Air China  2002-04-15       129\n",
      "93                        EAS Airlines  2002-05-04      4226\n",
      "94                            EgyptAir  2002-05-07       843\n",
      "95             China Northern Airlines  2002-05-07      6136\n",
      "96                      China Airlines  2002-05-25       611\n",
      "97                 Bashkirian Airlines  2002-07-01       611\n",
      "98        Swiss International Airlines  2002-07-10       850\n",
      "99                  Rico Linhas Aéreas  2002-08-30      4823\n",
      "100                 Northwest Airlines  2002-10-09        85\n",
      "101                             Luxair  2002-11-06      9642\n",
      "102       Laoag International Airlines  2002-11-11       585\n",
      "103                        Air Midwest  2003-01-08      5481\n",
      "104                   Turkish Airlines  2003-01-08       634\n",
      "105                          TANS Perú  2003-01-09       222\n",
      "106                        Air Algérie  2003-03-06      6289\n",
      "107                        UM Airlines  2003-05-26      4230\n",
      "108                             Qantas  2003-05-29      1737\n",
      "109                      Sudan Airways  2003-07-08       139\n",
      "110                      FedEx Express  2003-12-18       647\n",
      "111                              UTAGE  2003-12-25       141\n",
      "112                     Flash Airlines  2004-01-03       604\n",
      "113                 Uzbekistan Airways  2004-01-13      1154\n",
      "114                           Kish Air  2004-02-10      7170\n",
      "115                 Rico Linhas Aéreas  2004-05-14      4815\n",
      "116                      Gabon Express  2004-06-08       221\n",
      "117                         Air Tahoma  2004-08-13       185\n",
      "118                   Siberia Airlines  2004-08-24      1047\n",
      "119                  Volga-AviaExpress  2004-08-24      1303\n",
      "122                        MK Airlines  2004-10-14      1602\n",
      "123                  Pinnacle Airlines  2004-10-14      3701\n",
      "124                 Corporate Airlines  2004-10-19      5966\n",
      "125             China Eastern Airlines  2004-11-21      5210\n",
      "126                           Lion Air  2004-11-30       538\n",
      "127                            Kam Air  2005-02-03       904\n",
      "128                    British Airways  2005-02-20       268\n",
      "129                        Air Transat  2005-03-06       961\n",
      "130                  Regional Airlines  2005-03-16      9288\n",
      "131                         US Airways  2005-06-09       132\n",
      "132                         Air France  2005-08-02       358\n",
      "133                           Tuninter  2005-08-06      1153\n",
      "134                         Copterline  2005-08-10       103\n",
      "135                     Helios Airways  2005-08-14       522\n",
      "136             West Caribbean Airways  2005-08-16       708\n",
      "137                          TANS Perú  2005-08-23       204\n",
      "138                   Mandala Airlines  2005-09-05       091\n",
      "139                    JetBlue Airways  2005-09-21       292\n",
      "140                  Bellview Airlines  2005-10-22       210\n",
      "141                 Southwest Airlines  2005-12-08      1248\n",
      "142                  Sosoliso Airlines  2005-12-10      1145\n",
      "143              Chalk's Ocean Airways  2005-12-19       101\n",
      "144                Azerbaijan Airlines  2005-12-23       217\n",
      "145                 TEAM Linhas Aéreas  2006-03-31      6865\n",
      "146                            Armavia  2006-05-03       967\n",
      "147                        S7 Airlines  2006-07-09       778\n",
      "148                                PIA  2006-07-10       688\n",
      "149                        Air Algérie  2006-08-13      2208\n",
      "150        Pulkovo Aviation Enterprise  2006-08-22       612\n",
      "151                             Comair  2006-08-27      5191\n",
      "152                     Iran Air Tours  2006-09-01       945\n",
      "153             Gol Transportes Aéreos  2006-09-29      1907\n",
      "154                   Turkish Airlines  2006-10-03      1476\n",
      "155                   Atlantic Airways  2006-10-10       670\n",
      "156                       ADC Airlines  2006-10-29        53\n",
      "157                           Adam Air  2007-01-01       574\n",
      "158                           Air West  2007-01-24       612\n",
      "159                           Adam Air  2007-02-21       172\n",
      "160                   Garuda Indonesia  2007-03-07       200\n",
      "161                              UTair  2007-03-17       471\n",
      "162                      Kenya Airways  2007-05-05       507\n",
      "163                             PMTair  2007-06-25       241\n",
      "164                       TAM Airlines  2007-07-17      3054\n",
      "165                         Air Moorea  2007-08-09      1121\n",
      "166                     China Airlines  2007-08-20       120\n",
      "167              Scandinavian Airlines  2007-09-09      1209\n",
      "168              Scandinavian Airlines  2007-09-12      2748\n",
      "169              Scandinavian Airlines  2007-10-27      2867\n",
      "173                One-Two-GO Airlines  2007-09-16       269\n",
      "174                           Atlasjet  2007-11-30      4203\n",
      "175                              TAROM  2007-12-30      3107\n",
      "176                    British Airways  2008-01-17        38\n",
      "177                      Eagle Airways  2008-02-08      2279\n",
      "178                            Belavia  2008-02-14      1834\n",
      "179             Santa Bárbara Airlines  2008-02-21       518\n",
      "180                  Hewa Bora Airways  2008-04-15       122\n",
      "181                               TACA  2008-05-30       390\n",
      "182                      Sudan Airways  2008-06-10       109\n",
      "183                             Qantas  2008-07-25        30\n",
      "184                            Spanair  2008-08-20      5022\n",
      "185               Iran Aseman Airlines  2008-08-24      6895\n",
      "186                      Sriwijaya Air  2008-08-27        62\n",
      "187                           Aeroflot  2008-09-14       821\n",
      "188                             Qantas  2008-10-07        72\n",
      "189                      Yeti Airlines  2008-10-08       103\n",
      "190                            Ryanair  2008-11-10      4102\n",
      "191               Continental Airlines  2008-12-20      1404\n",
      "192                         US Airways  2009-01-15      1549\n",
      "193                         Colgan Air  2009-02-12      3407\n",
      "194                   Turkish Airlines  2009-02-25      1951\n",
      "195                 Cougar Helicopters  2009-03-12        91\n",
      "196                           Emirates  2009-03-20       407\n",
      "197                      FedEx Express  2009-03-23        80\n",
      "198          Bond Offshore Helicopters  2009-04-01       85N\n",
      "199                             CanJet  2009-04-19       918\n",
      "200                         Air France  2009-06-01       447\n",
      "201                            Yemenia  2009-06-30       626\n",
      "202                 Southwest Airlines  2009-07-13      2294\n",
      "203                   Caspian Airlines  2009-07-15      7908\n",
      "204                           Aria Air  2009-07-24      1525\n",
      "205         Merpati Nusantara Airlines  2009-08-02      9760\n",
      "206                    Bangkok Airways  2009-08-04       266\n",
      "207                       Airlines PNG  2009-08-11      4684\n",
      "208                         Aeroméxico  2009-09-09       576\n",
      "209                            Airlink  2009-09-24      8911\n",
      "210                     Azza Transport  2009-10-21      2241\n",
      "211                      Divi Divi Air  2009-10-22       014\n",
      "212                           RwandAir  2009-11-12       205\n",
      "213                    Avient Aviation  2009-11-28       324\n",
      "214                  American Airlines  2009-12-22       331\n",
      "215                 Northwest Airlines  2009-12-25       253\n",
      "216                          Taban Air  2010-01-24      6437\n",
      "217                 Ethiopian Airlines  2010-01-25       409\n",
      "218                        Aviastar-TU  2010-03-22      1906\n",
      "219                          AeroUnion  2010-04-13       302\n",
      "220         Merpati Nusantara Airlines  2010-04-13       836\n",
      "221                     Cathay Pacific  2010-04-13       780\n",
      "222                  Afriqiyah Airways  2010-05-12       771\n",
      "223                      Pamir Airways  2010-05-17       112\n",
      "224                  Air India Express  2010-05-22       812\n",
      "225                    Lufthansa Cargo  2010-07-27      8460\n",
      "226                            Airblue  2010-07-28       202\n",
      "227                          Katekavia  2010-08-03      9357\n",
      "228                              AIRES  2010-08-16      8250\n",
      "229                           Agni Air  2010-08-24       101\n",
      "230                     Henan Airlines  2010-08-24      8387\n",
      "231                       UPS Airlines  2010-09-03         6\n",
      "232        Alrosa Mirny Air Enterprise  2010-09-07       514\n",
      "233                           Conviasa  2010-09-13      2350\n",
      "234                     Aero Caribbean  2010-11-04       883\n",
      "235                             Qantas  2010-11-04        32\n",
      "236                            Sun Way  2010-11-28      4412\n",
      "237                  Dagestan Airlines  2010-12-04       372\n",
      "238                            Kolavia  2011-01-01       348\n",
      "239                           Iran Air  2011-01-09       277\n",
      "240                              Manx2  2011-02-10      7100\n",
      "241           Central American Airways  2011-02-14       731\n",
      "242                 Southwest Airlines  2011-04-01       812\n",
      "243         Merpati Nusantara Airlines  2011-05-07      8968\n",
      "244                  Sol Líneas Aéreas  2011-05-18      5428\n",
      "245                             RusAir  2011-06-20      9605\n",
      "246                  Hewa Bora Airways  2011-07-08       952\n",
      "247                    Angara Airlines  2011-07-11      5007\n",
      "248                 Noar Linhas Aéreas  2011-07-13      4896\n",
      "249                    Asiana Airlines  2011-07-28       991\n",
      "250                           EgyptAir  2011-07-29       667\n",
      "251                 Caribbean Airlines  2011-07-30       523\n",
      "252                          First Air  2011-08-20      6560\n",
      "253                            Aerocon  2011-09-06       238\n",
      "254                        Yak-Service  2011-09-07      9634\n",
      "255                         Buddha Air  2011-09-25       103\n",
      "256                Nusantara Buana Air  2011-09-29       823\n",
      "257                       Airlines PNG  2011-10-13      1600\n",
      "258                           Iran Air  2011-10-18       742\n",
      "259                LOT Polish Airlines  2011-11-01        16\n",
      "260                              UTair  2012-04-02       120\n",
      "261                          Bhoja Air  2012-04-20       213\n",
      "262                           Agni Air  2012-05-14       CHT\n",
      "263                         Allied Air  2012-06-02       111\n",
      "264                           Dana Air  2012-06-03       992\n",
      "265                   Tianjin Airlines  2012-06-29      7554\n",
      "266       Petropavlovsk-Kamchatsky Air  2012-09-12       251\n",
      "267                           Sita Air  2012-09-28       601\n",
      "268                      FlyMontserrat  2012-10-07       107\n",
      "269                          Air Bagan  2012-12-25        11\n",
      "270                 Red Wings Airlines  2012-12-29      9268\n",
      "271                      SCAT Airlines  2013-01-29       760\n",
      "272                     South Airlines  2013-02-13      8971\n",
      "273                      ACE Air Cargo  2013-03-08        51\n",
      "274                           Lion Air  2013-04-13       904\n",
      "275                  National Airlines  2013-04-29       102\n",
      "276                     Nepal Airlines  2013-05-16       555\n",
      "277         Merpati Nusantara Airlines  2013-06-10      6517\n",
      "278                    Asiana Airlines  2013-07-06       214\n",
      "279                       UPS Airlines  2013-08-14      1354\n",
      "280                Associated Aviation  2013-10-03       361\n",
      "281                       Lao Airlines  2013-10-16       301\n",
      "282                 Tatarstan Airlines  2013-11-17       363\n",
      "283            LAM Mozambique Airlines  2013-11-29       470\n",
      "284                     Nepal Airlines  2014-02-16       183\n",
      "285                 Ethiopian Airlines  2014-02-17       702\n",
      "286                  Malaysia Airlines  2014-03-08       370\n",
      "287                  Malaysia Airlines  2014-07-17        17\n",
      "288                  TransAsia Airways  2014-07-23       222\n",
      "289                        Air Algérie  2014-07-24      5017\n",
      "290                   Sepahan Airlines  2014-08-10      5915\n",
      "291                 Skyway Enterprises  2014-10-29      7101\n",
      "292                  Indonesia AirAsia  2014-12-28      8501\n",
      "293                  TransAsia Airways  2015-02-04       235\n",
      "294                    Delta Air Lines  2015-03-05      1086\n",
      "295                        Germanwings  2015-03-24      9525\n",
      "296                         Air Canada  2015-03-29       624\n",
      "297                         Carson Air  2015-04-13        66\n",
      "298                    Asiana Airlines  2015-04-14       162\n",
      "299                   Turkish Airlines  2015-04-25      1878\n",
      "300                Trigana Air Service  2015-08-16       267\n",
      "301    Ceiba Intercontinental Airlines  2015-09-05        71\n",
      "302                    British Airways  2015-09-08      2276\n",
      "303                           Aviastar  2015-10-02      7503\n",
      "304                    Dynamic Airways  2015-10-29       405\n",
      "305                           Metrojet  2015-10-31      9268\n",
      "306                    West Air Sweden  2016-01-08       294\n",
      "307                    Daallo Airlines  2016-02-02       159\n",
      "308                           Tara Air  2016-02-24       193\n",
      "309                           Flydubai  2016-03-19       981\n",
      "310                           EgyptAir  2016-03-29       181\n",
      "311                          Batik Air  2016-04-04      7703\n",
      "312                           EgyptAir  2016-05-19       804\n",
      "313                         Korean Air  2016-05-27      2708\n",
      "314                 Singapore Airlines  2016-06-27       368\n",
      "315                           Emirates  2016-08-03       521\n",
      "316               ASL Airlines Hungary  2016-08-05      7332\n",
      "317                 Southwest Airlines  2016-08-27      3472\n",
      "318                  American Airlines  2016-10-28       383\n",
      "319                      FedEx Express  2016-10-28       910\n",
      "320                     LaMia Airlines  2016-11-28      2933\n",
      "321    Pakistan International Airlines  2016-12-07       661\n",
      "322                          Aerosucre  2016-12-20      4544\n",
      "323                  Afriqiyah Airways  2016-12-23       209\n",
      "324                   Turkish Airlines  2017-01-16      6491\n",
      "325                  Peruvian Airlines  2017-03-28       112\n",
      "326                         Summit Air  2017-05-27       409\n",
      "327                         Air Canada  2017-07-07       759\n",
      "328                         Air France  2017-09-30        66\n",
      "329                 West Wind Aviation  2017-12-13       280\n",
      "330                   Pegasus Airlines  2018-01-13      8622\n"
     ]
    }
   ],
   "source": [
    "# TODO: Change column type of 'Date' and drop duplicates\n",
    "\n",
    "# YOUR CODE HERE\n",
    "# raise NotImplementedError()\n",
    "\n",
    "print(len(incidents_df))\n",
    "import datetime\n",
    "\n",
    "# change dtype\n",
    "# incidents_df['Date'] = incidents_df['Date'].astype(datetime.date)\n",
    "def to_date(x):\n",
    "    if type(x) == str:\n",
    "        y, m, d = x.strip().split()\n",
    "        m = month_dict[ m[:3].lower() ]\n",
    "        return datetime.date(int(y),int(m),int(d))\n",
    "    else:\n",
    "        return x\n",
    "month_dict = {'jan':1,'feb':2,'mar':3,'apr':4,'may':5,'jun':6,\n",
    "              'jul':7,'aug':8,'sep':9,'oct':10,'nov':11,'dec':12}\n",
    "incidents_df['Date'] = incidents_df['Date'].apply(to_date)\n",
    "\n",
    "# drop duplicates\n",
    "incidents_df.drop_duplicates(inplace = True)\n",
    "#incidents_df = incidents_df.reset_index()\n",
    "\n",
    "#print(incidents_df)"
   ]
  },
  {
   "cell_type": "code",
   "execution_count": 58,
   "metadata": {
    "deletable": false,
    "editable": false,
    "nbgrader": {
     "checksum": "5854a13da392e1c8af23ce50783f5c52",
     "grade": true,
     "grade_id": "test_date1",
     "locked": true,
     "points": 2,
     "schema_version": 1,
     "solution": false
    }
   },
   "outputs": [
    {
     "name": "stdout",
     "output_type": "stream",
     "text": [
      "[CIS 545 Test Cases] (2 pts)\n"
     ]
    }
   ],
   "source": [
    "# [CIS 545 Test Cases] (2 pts)\n",
    "\n",
    "\n",
    "print('[CIS 545 Test Cases] (2 pts)')"
   ]
  },
  {
   "cell_type": "markdown",
   "metadata": {
    "deletable": false,
    "editable": false,
    "nbgrader": {
     "checksum": "9affff4213c5b0b1c2a3cc2d0635572f",
     "grade": false,
     "grade_id": "final_output",
     "locked": true,
     "schema_version": 1,
     "solution": false
    }
   },
   "source": [
    "## Final Output\n",
    "\n",
    "The following cells just show what the data looks like.  You should sanity check that it makes sense."
   ]
  },
  {
   "cell_type": "code",
   "execution_count": 59,
   "metadata": {
    "deletable": false,
    "editable": false,
    "nbgrader": {
     "checksum": "e3d6cdbf5733e81ebbb0b087157f526a",
     "grade": false,
     "grade_id": "airports_head2",
     "locked": true,
     "schema_version": 1,
     "solution": false
    }
   },
   "outputs": [
    {
     "data": {
      "text/html": [
       "<div>\n",
       "<style scoped>\n",
       "    .dataframe tbody tr th:only-of-type {\n",
       "        vertical-align: middle;\n",
       "    }\n",
       "\n",
       "    .dataframe tbody tr th {\n",
       "        vertical-align: top;\n",
       "    }\n",
       "\n",
       "    .dataframe thead th {\n",
       "        text-align: right;\n",
       "    }\n",
       "</style>\n",
       "<table border=\"1\" class=\"dataframe\">\n",
       "  <thead>\n",
       "    <tr style=\"text-align: right;\">\n",
       "      <th></th>\n",
       "      <th>airport_id</th>\n",
       "      <th>airport_name</th>\n",
       "      <th>city</th>\n",
       "      <th>airport_country</th>\n",
       "      <th>iata</th>\n",
       "      <th>icao</th>\n",
       "      <th>lat</th>\n",
       "      <th>lon</th>\n",
       "      <th>alt</th>\n",
       "      <th>timezone</th>\n",
       "      <th>dst</th>\n",
       "      <th>tz</th>\n",
       "    </tr>\n",
       "  </thead>\n",
       "  <tbody>\n",
       "    <tr>\n",
       "      <th>0</th>\n",
       "      <td>1</td>\n",
       "      <td>Goroka</td>\n",
       "      <td>Goroka</td>\n",
       "      <td>Papua New Guinea</td>\n",
       "      <td>GKA</td>\n",
       "      <td>AYGA</td>\n",
       "      <td>-6.081689</td>\n",
       "      <td>145.391881</td>\n",
       "      <td>5282</td>\n",
       "      <td>10.0</td>\n",
       "      <td>U</td>\n",
       "      <td>Pacific/Port_Moresby</td>\n",
       "    </tr>\n",
       "    <tr>\n",
       "      <th>1</th>\n",
       "      <td>2</td>\n",
       "      <td>Madang</td>\n",
       "      <td>Madang</td>\n",
       "      <td>Papua New Guinea</td>\n",
       "      <td>MAG</td>\n",
       "      <td>AYMD</td>\n",
       "      <td>-5.207083</td>\n",
       "      <td>145.788700</td>\n",
       "      <td>20</td>\n",
       "      <td>10.0</td>\n",
       "      <td>U</td>\n",
       "      <td>Pacific/Port_Moresby</td>\n",
       "    </tr>\n",
       "    <tr>\n",
       "      <th>2</th>\n",
       "      <td>3</td>\n",
       "      <td>Mount Hagen</td>\n",
       "      <td>Mount Hagen</td>\n",
       "      <td>Papua New Guinea</td>\n",
       "      <td>HGU</td>\n",
       "      <td>AYMH</td>\n",
       "      <td>-5.826789</td>\n",
       "      <td>144.295861</td>\n",
       "      <td>5388</td>\n",
       "      <td>10.0</td>\n",
       "      <td>U</td>\n",
       "      <td>Pacific/Port_Moresby</td>\n",
       "    </tr>\n",
       "    <tr>\n",
       "      <th>3</th>\n",
       "      <td>4</td>\n",
       "      <td>Nadzab</td>\n",
       "      <td>Nadzab</td>\n",
       "      <td>Papua New Guinea</td>\n",
       "      <td>LAE</td>\n",
       "      <td>AYNZ</td>\n",
       "      <td>-6.569828</td>\n",
       "      <td>146.726242</td>\n",
       "      <td>239</td>\n",
       "      <td>10.0</td>\n",
       "      <td>U</td>\n",
       "      <td>Pacific/Port_Moresby</td>\n",
       "    </tr>\n",
       "    <tr>\n",
       "      <th>4</th>\n",
       "      <td>5</td>\n",
       "      <td>Port Moresby Jacksons Intl</td>\n",
       "      <td>Port Moresby</td>\n",
       "      <td>Papua New Guinea</td>\n",
       "      <td>POM</td>\n",
       "      <td>AYPY</td>\n",
       "      <td>-9.443383</td>\n",
       "      <td>147.220050</td>\n",
       "      <td>146</td>\n",
       "      <td>10.0</td>\n",
       "      <td>U</td>\n",
       "      <td>Pacific/Port_Moresby</td>\n",
       "    </tr>\n",
       "    <tr>\n",
       "      <th>5</th>\n",
       "      <td>6</td>\n",
       "      <td>Wewak Intl</td>\n",
       "      <td>Wewak</td>\n",
       "      <td>Papua New Guinea</td>\n",
       "      <td>WWK</td>\n",
       "      <td>AYWK</td>\n",
       "      <td>-3.583828</td>\n",
       "      <td>143.669186</td>\n",
       "      <td>19</td>\n",
       "      <td>10.0</td>\n",
       "      <td>U</td>\n",
       "      <td>Pacific/Port_Moresby</td>\n",
       "    </tr>\n",
       "    <tr>\n",
       "      <th>6</th>\n",
       "      <td>7</td>\n",
       "      <td>Narsarsuaq</td>\n",
       "      <td>Narssarssuaq</td>\n",
       "      <td>Greenland</td>\n",
       "      <td>UAK</td>\n",
       "      <td>BGBW</td>\n",
       "      <td>61.160517</td>\n",
       "      <td>-45.425978</td>\n",
       "      <td>112</td>\n",
       "      <td>-3.0</td>\n",
       "      <td>E</td>\n",
       "      <td>America/Godthab</td>\n",
       "    </tr>\n",
       "    <tr>\n",
       "      <th>7</th>\n",
       "      <td>8</td>\n",
       "      <td>Nuuk</td>\n",
       "      <td>Godthaab</td>\n",
       "      <td>Greenland</td>\n",
       "      <td>GOH</td>\n",
       "      <td>BGGH</td>\n",
       "      <td>64.190922</td>\n",
       "      <td>-51.678064</td>\n",
       "      <td>283</td>\n",
       "      <td>-3.0</td>\n",
       "      <td>E</td>\n",
       "      <td>America/Godthab</td>\n",
       "    </tr>\n",
       "    <tr>\n",
       "      <th>8</th>\n",
       "      <td>9</td>\n",
       "      <td>Sondre Stromfjord</td>\n",
       "      <td>Sondrestrom</td>\n",
       "      <td>Greenland</td>\n",
       "      <td>SFJ</td>\n",
       "      <td>BGSF</td>\n",
       "      <td>67.016969</td>\n",
       "      <td>-50.689325</td>\n",
       "      <td>165</td>\n",
       "      <td>-3.0</td>\n",
       "      <td>E</td>\n",
       "      <td>America/Godthab</td>\n",
       "    </tr>\n",
       "    <tr>\n",
       "      <th>9</th>\n",
       "      <td>10</td>\n",
       "      <td>Thule Air Base</td>\n",
       "      <td>Thule</td>\n",
       "      <td>Greenland</td>\n",
       "      <td>THU</td>\n",
       "      <td>BGTL</td>\n",
       "      <td>76.531203</td>\n",
       "      <td>-68.703161</td>\n",
       "      <td>251</td>\n",
       "      <td>-4.0</td>\n",
       "      <td>E</td>\n",
       "      <td>America/Thule</td>\n",
       "    </tr>\n",
       "  </tbody>\n",
       "</table>\n",
       "</div>"
      ],
      "text/plain": [
       "   airport_id                airport_name          city   airport_country  \\\n",
       "0           1                      Goroka        Goroka  Papua New Guinea   \n",
       "1           2                      Madang        Madang  Papua New Guinea   \n",
       "2           3                 Mount Hagen   Mount Hagen  Papua New Guinea   \n",
       "3           4                      Nadzab        Nadzab  Papua New Guinea   \n",
       "4           5  Port Moresby Jacksons Intl  Port Moresby  Papua New Guinea   \n",
       "5           6                  Wewak Intl         Wewak  Papua New Guinea   \n",
       "6           7                  Narsarsuaq  Narssarssuaq         Greenland   \n",
       "7           8                        Nuuk      Godthaab         Greenland   \n",
       "8           9           Sondre Stromfjord   Sondrestrom         Greenland   \n",
       "9          10              Thule Air Base         Thule         Greenland   \n",
       "\n",
       "  iata  icao        lat         lon   alt  timezone dst                    tz  \n",
       "0  GKA  AYGA  -6.081689  145.391881  5282      10.0   U  Pacific/Port_Moresby  \n",
       "1  MAG  AYMD  -5.207083  145.788700    20      10.0   U  Pacific/Port_Moresby  \n",
       "2  HGU  AYMH  -5.826789  144.295861  5388      10.0   U  Pacific/Port_Moresby  \n",
       "3  LAE  AYNZ  -6.569828  146.726242   239      10.0   U  Pacific/Port_Moresby  \n",
       "4  POM  AYPY  -9.443383  147.220050   146      10.0   U  Pacific/Port_Moresby  \n",
       "5  WWK  AYWK  -3.583828  143.669186    19      10.0   U  Pacific/Port_Moresby  \n",
       "6  UAK  BGBW  61.160517  -45.425978   112      -3.0   E       America/Godthab  \n",
       "7  GOH  BGGH  64.190922  -51.678064   283      -3.0   E       America/Godthab  \n",
       "8  SFJ  BGSF  67.016969  -50.689325   165      -3.0   E       America/Godthab  \n",
       "9  THU  BGTL  76.531203  -68.703161   251      -4.0   E         America/Thule  "
      ]
     },
     "execution_count": 59,
     "metadata": {},
     "output_type": "execute_result"
    }
   ],
   "source": [
    "airports_df.head(10)"
   ]
  },
  {
   "cell_type": "code",
   "execution_count": 60,
   "metadata": {
    "deletable": false,
    "editable": false,
    "nbgrader": {
     "checksum": "7d9ce18e14b74280115a0c4b153b6c5d",
     "grade": false,
     "grade_id": "airlines_head2",
     "locked": true,
     "schema_version": 1,
     "solution": false
    }
   },
   "outputs": [
    {
     "data": {
      "text/html": [
       "<div>\n",
       "<style scoped>\n",
       "    .dataframe tbody tr th:only-of-type {\n",
       "        vertical-align: middle;\n",
       "    }\n",
       "\n",
       "    .dataframe tbody tr th {\n",
       "        vertical-align: top;\n",
       "    }\n",
       "\n",
       "    .dataframe thead th {\n",
       "        text-align: right;\n",
       "    }\n",
       "</style>\n",
       "<table border=\"1\" class=\"dataframe\">\n",
       "  <thead>\n",
       "    <tr style=\"text-align: right;\">\n",
       "      <th></th>\n",
       "      <th>airline_id</th>\n",
       "      <th>airline_name</th>\n",
       "      <th>alias</th>\n",
       "      <th>iata</th>\n",
       "      <th>icao</th>\n",
       "      <th>airline_callsign</th>\n",
       "      <th>airline_country</th>\n",
       "      <th>active</th>\n",
       "    </tr>\n",
       "  </thead>\n",
       "  <tbody>\n",
       "    <tr>\n",
       "      <th>0</th>\n",
       "      <td>1</td>\n",
       "      <td>Private flight</td>\n",
       "      <td></td>\n",
       "      <td>-</td>\n",
       "      <td></td>\n",
       "      <td></td>\n",
       "      <td></td>\n",
       "      <td>Y</td>\n",
       "    </tr>\n",
       "    <tr>\n",
       "      <th>1</th>\n",
       "      <td>2</td>\n",
       "      <td>135 Airways</td>\n",
       "      <td></td>\n",
       "      <td></td>\n",
       "      <td>GNL</td>\n",
       "      <td>GENERAL</td>\n",
       "      <td>United States</td>\n",
       "      <td>N</td>\n",
       "    </tr>\n",
       "    <tr>\n",
       "      <th>2</th>\n",
       "      <td>3</td>\n",
       "      <td>1Time Airline</td>\n",
       "      <td></td>\n",
       "      <td>1T</td>\n",
       "      <td>RNX</td>\n",
       "      <td>NEXTIME</td>\n",
       "      <td>South Africa</td>\n",
       "      <td>Y</td>\n",
       "    </tr>\n",
       "    <tr>\n",
       "      <th>3</th>\n",
       "      <td>4</td>\n",
       "      <td>2 Sqn No 1 Elementary Flying Training School</td>\n",
       "      <td></td>\n",
       "      <td></td>\n",
       "      <td>WYT</td>\n",
       "      <td></td>\n",
       "      <td>United Kingdom</td>\n",
       "      <td>N</td>\n",
       "    </tr>\n",
       "    <tr>\n",
       "      <th>4</th>\n",
       "      <td>5</td>\n",
       "      <td>213 Flight Unit</td>\n",
       "      <td></td>\n",
       "      <td></td>\n",
       "      <td>TFU</td>\n",
       "      <td></td>\n",
       "      <td>Russia</td>\n",
       "      <td>N</td>\n",
       "    </tr>\n",
       "    <tr>\n",
       "      <th>5</th>\n",
       "      <td>6</td>\n",
       "      <td>223 Flight Unit State Airline</td>\n",
       "      <td></td>\n",
       "      <td></td>\n",
       "      <td>CHD</td>\n",
       "      <td>CHKALOVSK-AVIA</td>\n",
       "      <td>Russia</td>\n",
       "      <td>N</td>\n",
       "    </tr>\n",
       "    <tr>\n",
       "      <th>6</th>\n",
       "      <td>7</td>\n",
       "      <td>224th Flight Unit</td>\n",
       "      <td></td>\n",
       "      <td></td>\n",
       "      <td>TTF</td>\n",
       "      <td>CARGO UNIT</td>\n",
       "      <td>Russia</td>\n",
       "      <td>N</td>\n",
       "    </tr>\n",
       "    <tr>\n",
       "      <th>7</th>\n",
       "      <td>8</td>\n",
       "      <td>247 Jet Ltd</td>\n",
       "      <td></td>\n",
       "      <td></td>\n",
       "      <td>TWF</td>\n",
       "      <td>CLOUD RUNNER</td>\n",
       "      <td>United Kingdom</td>\n",
       "      <td>N</td>\n",
       "    </tr>\n",
       "    <tr>\n",
       "      <th>8</th>\n",
       "      <td>9</td>\n",
       "      <td>3D Aviation</td>\n",
       "      <td></td>\n",
       "      <td></td>\n",
       "      <td>SEC</td>\n",
       "      <td>SECUREX</td>\n",
       "      <td>United States</td>\n",
       "      <td>N</td>\n",
       "    </tr>\n",
       "    <tr>\n",
       "      <th>9</th>\n",
       "      <td>10</td>\n",
       "      <td>40-Mile Air</td>\n",
       "      <td></td>\n",
       "      <td>Q5</td>\n",
       "      <td>MLA</td>\n",
       "      <td>MILE-AIR</td>\n",
       "      <td>United States</td>\n",
       "      <td>Y</td>\n",
       "    </tr>\n",
       "  </tbody>\n",
       "</table>\n",
       "</div>"
      ],
      "text/plain": [
       "   airline_id                                  airline_name alias iata icao  \\\n",
       "0           1                                Private flight          -        \n",
       "1           2                                   135 Airways             GNL   \n",
       "2           3                                 1Time Airline         1T  RNX   \n",
       "3           4  2 Sqn No 1 Elementary Flying Training School             WYT   \n",
       "4           5                               213 Flight Unit             TFU   \n",
       "5           6                 223 Flight Unit State Airline             CHD   \n",
       "6           7                             224th Flight Unit             TTF   \n",
       "7           8                                   247 Jet Ltd             TWF   \n",
       "8           9                                   3D Aviation             SEC   \n",
       "9          10                                   40-Mile Air         Q5  MLA   \n",
       "\n",
       "  airline_callsign airline_country active  \n",
       "0                                       Y  \n",
       "1          GENERAL   United States      N  \n",
       "2          NEXTIME    South Africa      Y  \n",
       "3                   United Kingdom      N  \n",
       "4                           Russia      N  \n",
       "5   CHKALOVSK-AVIA          Russia      N  \n",
       "6       CARGO UNIT          Russia      N  \n",
       "7     CLOUD RUNNER  United Kingdom      N  \n",
       "8          SECUREX   United States      N  \n",
       "9         MILE-AIR   United States      Y  "
      ]
     },
     "execution_count": 60,
     "metadata": {},
     "output_type": "execute_result"
    }
   ],
   "source": [
    "airlines_df.head(10)"
   ]
  },
  {
   "cell_type": "code",
   "execution_count": 61,
   "metadata": {
    "deletable": false,
    "editable": false,
    "nbgrader": {
     "checksum": "b9e432ac7472772ec82eeaa888206421",
     "grade": false,
     "grade_id": "routes_head2",
     "locked": true,
     "schema_version": 1,
     "solution": false
    }
   },
   "outputs": [
    {
     "data": {
      "text/html": [
       "<div>\n",
       "<style scoped>\n",
       "    .dataframe tbody tr th:only-of-type {\n",
       "        vertical-align: middle;\n",
       "    }\n",
       "\n",
       "    .dataframe tbody tr th {\n",
       "        vertical-align: top;\n",
       "    }\n",
       "\n",
       "    .dataframe thead th {\n",
       "        text-align: right;\n",
       "    }\n",
       "</style>\n",
       "<table border=\"1\" class=\"dataframe\">\n",
       "  <thead>\n",
       "    <tr style=\"text-align: right;\">\n",
       "      <th></th>\n",
       "      <th>airline_iata</th>\n",
       "      <th>airline_id</th>\n",
       "      <th>src_iata_icao</th>\n",
       "      <th>source_id</th>\n",
       "      <th>target_iata_icao</th>\n",
       "      <th>target_id</th>\n",
       "      <th>code_share</th>\n",
       "      <th>stops</th>\n",
       "      <th>equipment</th>\n",
       "    </tr>\n",
       "  </thead>\n",
       "  <tbody>\n",
       "    <tr>\n",
       "      <th>0</th>\n",
       "      <td>2B</td>\n",
       "      <td>410</td>\n",
       "      <td>AER</td>\n",
       "      <td>2965</td>\n",
       "      <td>KZN</td>\n",
       "      <td>2990</td>\n",
       "      <td></td>\n",
       "      <td>0</td>\n",
       "      <td>CR2</td>\n",
       "    </tr>\n",
       "    <tr>\n",
       "      <th>1</th>\n",
       "      <td>2B</td>\n",
       "      <td>410</td>\n",
       "      <td>ASF</td>\n",
       "      <td>2966</td>\n",
       "      <td>KZN</td>\n",
       "      <td>2990</td>\n",
       "      <td></td>\n",
       "      <td>0</td>\n",
       "      <td>CR2</td>\n",
       "    </tr>\n",
       "    <tr>\n",
       "      <th>2</th>\n",
       "      <td>2B</td>\n",
       "      <td>410</td>\n",
       "      <td>ASF</td>\n",
       "      <td>2966</td>\n",
       "      <td>MRV</td>\n",
       "      <td>2962</td>\n",
       "      <td></td>\n",
       "      <td>0</td>\n",
       "      <td>CR2</td>\n",
       "    </tr>\n",
       "    <tr>\n",
       "      <th>3</th>\n",
       "      <td>2B</td>\n",
       "      <td>410</td>\n",
       "      <td>CEK</td>\n",
       "      <td>2968</td>\n",
       "      <td>KZN</td>\n",
       "      <td>2990</td>\n",
       "      <td></td>\n",
       "      <td>0</td>\n",
       "      <td>CR2</td>\n",
       "    </tr>\n",
       "    <tr>\n",
       "      <th>4</th>\n",
       "      <td>2B</td>\n",
       "      <td>410</td>\n",
       "      <td>CEK</td>\n",
       "      <td>2968</td>\n",
       "      <td>OVB</td>\n",
       "      <td>4078</td>\n",
       "      <td></td>\n",
       "      <td>0</td>\n",
       "      <td>CR2</td>\n",
       "    </tr>\n",
       "    <tr>\n",
       "      <th>5</th>\n",
       "      <td>2B</td>\n",
       "      <td>410</td>\n",
       "      <td>DME</td>\n",
       "      <td>4029</td>\n",
       "      <td>KZN</td>\n",
       "      <td>2990</td>\n",
       "      <td></td>\n",
       "      <td>0</td>\n",
       "      <td>CR2</td>\n",
       "    </tr>\n",
       "    <tr>\n",
       "      <th>6</th>\n",
       "      <td>2B</td>\n",
       "      <td>410</td>\n",
       "      <td>DME</td>\n",
       "      <td>4029</td>\n",
       "      <td>NBC</td>\n",
       "      <td>6969</td>\n",
       "      <td></td>\n",
       "      <td>0</td>\n",
       "      <td>CR2</td>\n",
       "    </tr>\n",
       "    <tr>\n",
       "      <th>8</th>\n",
       "      <td>2B</td>\n",
       "      <td>410</td>\n",
       "      <td>DME</td>\n",
       "      <td>4029</td>\n",
       "      <td>UUA</td>\n",
       "      <td>6160</td>\n",
       "      <td></td>\n",
       "      <td>0</td>\n",
       "      <td>CR2</td>\n",
       "    </tr>\n",
       "    <tr>\n",
       "      <th>9</th>\n",
       "      <td>2B</td>\n",
       "      <td>410</td>\n",
       "      <td>EGO</td>\n",
       "      <td>6156</td>\n",
       "      <td>KGD</td>\n",
       "      <td>2952</td>\n",
       "      <td></td>\n",
       "      <td>0</td>\n",
       "      <td>CR2</td>\n",
       "    </tr>\n",
       "    <tr>\n",
       "      <th>10</th>\n",
       "      <td>2B</td>\n",
       "      <td>410</td>\n",
       "      <td>EGO</td>\n",
       "      <td>6156</td>\n",
       "      <td>KZN</td>\n",
       "      <td>2990</td>\n",
       "      <td></td>\n",
       "      <td>0</td>\n",
       "      <td>CR2</td>\n",
       "    </tr>\n",
       "  </tbody>\n",
       "</table>\n",
       "</div>"
      ],
      "text/plain": [
       "   airline_iata  airline_id src_iata_icao  source_id target_iata_icao  \\\n",
       "0            2B         410           AER       2965              KZN   \n",
       "1            2B         410           ASF       2966              KZN   \n",
       "2            2B         410           ASF       2966              MRV   \n",
       "3            2B         410           CEK       2968              KZN   \n",
       "4            2B         410           CEK       2968              OVB   \n",
       "5            2B         410           DME       4029              KZN   \n",
       "6            2B         410           DME       4029              NBC   \n",
       "8            2B         410           DME       4029              UUA   \n",
       "9            2B         410           EGO       6156              KGD   \n",
       "10           2B         410           EGO       6156              KZN   \n",
       "\n",
       "    target_id code_share  stops equipment  \n",
       "0        2990                 0       CR2  \n",
       "1        2990                 0       CR2  \n",
       "2        2962                 0       CR2  \n",
       "3        2990                 0       CR2  \n",
       "4        4078                 0       CR2  \n",
       "5        2990                 0       CR2  \n",
       "6        6969                 0       CR2  \n",
       "8        6160                 0       CR2  \n",
       "9        2952                 0       CR2  \n",
       "10       2990                 0       CR2  "
      ]
     },
     "execution_count": 61,
     "metadata": {},
     "output_type": "execute_result"
    }
   ],
   "source": [
    "routes_df.head(10)"
   ]
  },
  {
   "cell_type": "code",
   "execution_count": 62,
   "metadata": {
    "deletable": false,
    "editable": false,
    "nbgrader": {
     "checksum": "ed8cfc9d74616872261ddb38efaa968d",
     "grade": false,
     "grade_id": "incidents_head2",
     "locked": true,
     "schema_version": 1,
     "solution": false
    }
   },
   "outputs": [
    {
     "data": {
      "text/html": [
       "<div>\n",
       "<style scoped>\n",
       "    .dataframe tbody tr th:only-of-type {\n",
       "        vertical-align: middle;\n",
       "    }\n",
       "\n",
       "    .dataframe tbody tr th {\n",
       "        vertical-align: top;\n",
       "    }\n",
       "\n",
       "    .dataframe thead th {\n",
       "        text-align: right;\n",
       "    }\n",
       "</style>\n",
       "<table border=\"1\" class=\"dataframe\">\n",
       "  <thead>\n",
       "    <tr style=\"text-align: right;\">\n",
       "      <th></th>\n",
       "      <th>Airline</th>\n",
       "      <th>Date</th>\n",
       "      <th>FlightNum</th>\n",
       "    </tr>\n",
       "  </thead>\n",
       "  <tbody>\n",
       "    <tr>\n",
       "      <th>0</th>\n",
       "      <td>Comair</td>\n",
       "      <td>1997-01-09</td>\n",
       "      <td>3272</td>\n",
       "    </tr>\n",
       "    <tr>\n",
       "      <th>1</th>\n",
       "      <td>Stavropolskaya Aktsionernaya Avia</td>\n",
       "      <td>1997-03-18</td>\n",
       "      <td>1023</td>\n",
       "    </tr>\n",
       "    <tr>\n",
       "      <th>2</th>\n",
       "      <td>Merpati Nusantara Airlines</td>\n",
       "      <td>1997-04-19</td>\n",
       "      <td>106</td>\n",
       "    </tr>\n",
       "    <tr>\n",
       "      <th>3</th>\n",
       "      <td>China Southern Airlines</td>\n",
       "      <td>1997-05-08</td>\n",
       "      <td>3456</td>\n",
       "    </tr>\n",
       "    <tr>\n",
       "      <th>4</th>\n",
       "      <td>FedEx Express</td>\n",
       "      <td>1997-07-31</td>\n",
       "      <td>14</td>\n",
       "    </tr>\n",
       "    <tr>\n",
       "      <th>5</th>\n",
       "      <td>Sempati Air</td>\n",
       "      <td>1997-07-17</td>\n",
       "      <td>304</td>\n",
       "    </tr>\n",
       "    <tr>\n",
       "      <th>6</th>\n",
       "      <td>Korean Air</td>\n",
       "      <td>1997-08-06</td>\n",
       "      <td>801</td>\n",
       "    </tr>\n",
       "    <tr>\n",
       "      <th>7</th>\n",
       "      <td>Formosa Airlines</td>\n",
       "      <td>1997-08-10</td>\n",
       "      <td>7601</td>\n",
       "    </tr>\n",
       "    <tr>\n",
       "      <th>8</th>\n",
       "      <td>Vietnam Airlines</td>\n",
       "      <td>1997-09-03</td>\n",
       "      <td>815</td>\n",
       "    </tr>\n",
       "    <tr>\n",
       "      <th>9</th>\n",
       "      <td>Royal Brunei Airlines</td>\n",
       "      <td>1997-09-06</td>\n",
       "      <td>238</td>\n",
       "    </tr>\n",
       "  </tbody>\n",
       "</table>\n",
       "</div>"
      ],
      "text/plain": [
       "                             Airline        Date FlightNum\n",
       "0                             Comair  1997-01-09      3272\n",
       "1  Stavropolskaya Aktsionernaya Avia  1997-03-18      1023\n",
       "2         Merpati Nusantara Airlines  1997-04-19       106\n",
       "3            China Southern Airlines  1997-05-08      3456\n",
       "4                      FedEx Express  1997-07-31        14\n",
       "5                        Sempati Air  1997-07-17       304\n",
       "6                         Korean Air  1997-08-06       801\n",
       "7                   Formosa Airlines  1997-08-10      7601\n",
       "8                   Vietnam Airlines  1997-09-03       815\n",
       "9              Royal Brunei Airlines  1997-09-06       238"
      ]
     },
     "execution_count": 62,
     "metadata": {},
     "output_type": "execute_result"
    }
   ],
   "source": [
    "incidents_df.head(10)"
   ]
  },
  {
   "cell_type": "markdown",
   "metadata": {
    "deletable": false,
    "editable": false,
    "nbgrader": {
     "checksum": "8d5cada1374b6b3f2928856299ffd0ac",
     "grade": false,
     "grade_id": "step3",
     "locked": true,
     "schema_version": 1,
     "solution": false
    }
   },
   "source": [
    "## Step 3: Making Data “Persistent”\n",
    "\n",
    "Now let’s actually save the data in a persistent way, specifically using a relational database.  For simplicity we’ll use SQLite here, but we could alternatively use a DBMS such as MySQL or PostgreSQL on the cloud (or in another Docker container).\n",
    "\n",
    "The cell below establishes a connection to an SQLite database, which will be written to the file HW1_DB in your HW1 Jupyter directory."
   ]
  },
  {
   "cell_type": "code",
   "execution_count": 63,
   "metadata": {
    "deletable": false,
    "editable": false,
    "nbgrader": {
     "checksum": "71312652d44744d492398bf73174dd87",
     "grade": false,
     "grade_id": "sqlite3",
     "locked": true,
     "schema_version": 1,
     "solution": false
    }
   },
   "outputs": [],
   "source": [
    "# sqlite3 allows for use of SQL queries in Python. Just run this cell, no edits needed!\n",
    "import sqlite3\n",
    "engine = sqlite3.connect('HW1_DB')"
   ]
  },
  {
   "cell_type": "markdown",
   "metadata": {
    "deletable": false,
    "editable": false,
    "nbgrader": {
     "checksum": "a58f5590f07e13527b3e8ccbc68ee9f1",
     "grade": false,
     "grade_id": "save_dfs",
     "locked": true,
     "schema_version": 1,
     "solution": false
    }
   },
   "source": [
    "Now save each of your DataFrames (`airlines_df`, `airports_df`, `flights_df`, `routes_df`, `incidents_df`) to the database.  To do this, call the `to_sql` method (make sure to not save the `index` column since it doesn't matter!) on the DataFrame.  Give it a table name matching the DataFrame name, and set the flag `if_exists=’replace’` in case you want to run this multiple times.\n",
    "\n",
    "Once this is all done, you can move on to Homework 1, Part 2, which will use the DataFrames saved to the SQL database."
   ]
  },
  {
   "cell_type": "code",
   "execution_count": 64,
   "metadata": {
    "deletable": false,
    "nbgrader": {
     "checksum": "b87eec6c86d8175cd3b046c0ad2e016c",
     "grade": false,
     "grade_id": "to_sql",
     "locked": false,
     "schema_version": 1,
     "solution": true
    }
   },
   "outputs": [],
   "source": [
    "# TODO: Use to_sql to save your Dataframes to the HW1_DB\n",
    "\n",
    "# YOUR CODE HERE\n",
    "# raise NotImplementedError()\n",
    "\n",
    "airlines_df.to_sql(name='airlines', con=engine, if_exists='replace', index=False)\n",
    "airports_df.to_sql(name='airports', con=engine, if_exists='replace', index=False)\n",
    "flights_df.to_sql(name='flights', con=engine, if_exists='replace', index=False)\n",
    "routes_df.to_sql(name='routes', con=engine, if_exists='replace', index=False)\n",
    "incidents_df.to_sql(name='incidents', con=engine, if_exists='replace', index=False)\n"
   ]
  },
  {
   "cell_type": "code",
   "execution_count": 65,
   "metadata": {
    "deletable": false,
    "editable": false,
    "nbgrader": {
     "checksum": "005126c946c3feba6575b50777656fbb",
     "grade": true,
     "grade_id": "test_execute",
     "locked": true,
     "points": 0,
     "schema_version": 1,
     "solution": false
    }
   },
   "outputs": [
    {
     "name": "stdout",
     "output_type": "stream",
     "text": [
      "(1, 'Goroka', 'Goroka', 'Papua New Guinea', 'GKA', 'AYGA', -6.081689, 145.391881, 5282, 10.0, 'U', 'Pacific/Port_Moresby')\n",
      "(2, 'Madang', 'Madang', 'Papua New Guinea', 'MAG', 'AYMD', -5.207083, 145.7887, 20, 10.0, 'U', 'Pacific/Port_Moresby')\n",
      "(3, 'Mount Hagen', 'Mount Hagen', 'Papua New Guinea', 'HGU', 'AYMH', -5.826789, 144.295861, 5388, 10.0, 'U', 'Pacific/Port_Moresby')\n",
      "(4, 'Nadzab', 'Nadzab', 'Papua New Guinea', 'LAE', 'AYNZ', -6.569828, 146.72624199999998, 239, 10.0, 'U', 'Pacific/Port_Moresby')\n",
      "(5, 'Port Moresby Jacksons Intl', 'Port Moresby', 'Papua New Guinea', 'POM', 'AYPY', -9.443383, 147.22005, 146, 10.0, 'U', 'Pacific/Port_Moresby')\n",
      "(6, 'Wewak Intl', 'Wewak', 'Papua New Guinea', 'WWK', 'AYWK', -3.583828, 143.669186, 19, 10.0, 'U', 'Pacific/Port_Moresby')\n",
      "(7, 'Narsarsuaq', 'Narssarssuaq', 'Greenland', 'UAK', 'BGBW', 61.160517000000006, -45.425978, 112, -3.0, 'E', 'America/Godthab')\n",
      "(8, 'Nuuk', 'Godthaab', 'Greenland', 'GOH', 'BGGH', 64.190922, -51.678064, 283, -3.0, 'E', 'America/Godthab')\n",
      "(9, 'Sondre Stromfjord', 'Sondrestrom', 'Greenland', 'SFJ', 'BGSF', 67.01696899999999, -50.689325, 165, -3.0, 'E', 'America/Godthab')\n",
      "(10, 'Thule Air Base', 'Thule', 'Greenland', 'THU', 'BGTL', 76.531203, -68.703161, 251, -4.0, 'E', 'America/Thule')\n"
     ]
    }
   ],
   "source": [
    "# Test that the data is there!\n",
    "# No points for this test case!\n",
    "\n",
    "cursor = engine.execute('select * from airports limit 1000')\n",
    "rows = cursor.fetchall()\n",
    "\n",
    "# View some data\n",
    "for i in range(10):\n",
    "    print(rows[i])\n",
    "\n",
    "if len(rows) < 1000:\n",
    "    raise ValueError('Somehow fewer than 1000 airports were written')"
   ]
  },
  {
   "cell_type": "code",
   "execution_count": null,
   "metadata": {},
   "outputs": [],
   "source": []
  }
 ],
 "metadata": {
  "anaconda-cloud": {},
  "kernelspec": {
   "display_name": "Python 3",
   "language": "python",
   "name": "python3"
  },
  "language_info": {
   "codemirror_mode": {
    "name": "ipython",
    "version": 3
   },
   "file_extension": ".py",
   "mimetype": "text/x-python",
   "name": "python",
   "nbconvert_exporter": "python",
   "pygments_lexer": "ipython3",
   "version": "3.7.1"
  }
 },
 "nbformat": 4,
 "nbformat_minor": 2
}
